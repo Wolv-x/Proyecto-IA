{
 "cells": [
  {
   "cell_type": "markdown",
   "id": "cef449b1-9d72-4bd4-a1ab-f2706c239e2c",
   "metadata": {},
   "source": [
    "# Proyecto"
   ]
  },
  {
   "cell_type": "markdown",
   "id": "7e7d9493-f49e-4e1a-90d7-9a48715e282a",
   "metadata": {
    "tags": []
   },
   "source": [
    "## Importación de las librerias y carga del dataset "
   ]
  },
  {
   "cell_type": "code",
   "execution_count": 1,
   "id": "c4cb651a-80f9-4c00-8cf9-3331c4e12dde",
   "metadata": {},
   "outputs": [],
   "source": [
    "# Importación de las librerias \n",
    "import pandas as pd\n",
    "import numpy as np\n",
    "from sklearn import preprocessing\n",
    "from sklearn.model_selection import train_test_split \n",
    "from sklearn import linear_model\n",
    "from sklearn.model_selection import KFold\n",
    "from sklearn.tree import DecisionTreeClassifier\n",
    "from sklearn.model_selection import train_test_split, cross_val_score\n",
    "from sklearn.model_selection import train_test_split, cross_val_score, GridSearchCV\n",
    "from graphs import plotDecisionTree\n",
    "from metric import classificationSummary\n",
    "import pickle\n",
    "import sklearn.metrics as sm\n",
    "from tkinter import *\n",
    "from tkinter import messagebox, ttk\n",
    "import tkinter as tk\n",
    "import warnings\n",
    "warnings.filterwarnings('ignore')"
   ]
  },
  {
   "cell_type": "code",
   "execution_count": 2,
   "id": "fe3d91ae-7af3-4c90-8aac-a7bef825b6a5",
   "metadata": {},
   "outputs": [],
   "source": [
    "# Carga de datos en el entorno de Python\n",
    "inec_df = pd.read_csv('inec-2020.csv',low_memory=False)"
   ]
  },
  {
   "cell_type": "code",
   "execution_count": 3,
   "id": "747b8970-ae7d-4baa-9ece-4b35d1848ae8",
   "metadata": {},
   "outputs": [
    {
     "data": {
      "text/html": [
       "<div>\n",
       "<style scoped>\n",
       "    .dataframe tbody tr th:only-of-type {\n",
       "        vertical-align: middle;\n",
       "    }\n",
       "\n",
       "    .dataframe tbody tr th {\n",
       "        vertical-align: top;\n",
       "    }\n",
       "\n",
       "    .dataframe thead th {\n",
       "        text-align: right;\n",
       "    }\n",
       "</style>\n",
       "<table border=\"1\" class=\"dataframe\">\n",
       "  <thead>\n",
       "    <tr style=\"text-align: right;\">\n",
       "      <th></th>\n",
       "      <th>Numeración</th>\n",
       "      <th>prov_insc</th>\n",
       "      <th>cant_insc</th>\n",
       "      <th>parr_insc</th>\n",
       "      <th>anio_insc</th>\n",
       "      <th>mes_insc</th>\n",
       "      <th>dia_insc</th>\n",
       "      <th>fecha_insc</th>\n",
       "      <th>sexo</th>\n",
       "      <th>anio_fall</th>\n",
       "      <th>...</th>\n",
       "      <th>lug_viol</th>\n",
       "      <th>prov_res</th>\n",
       "      <th>area_res</th>\n",
       "      <th>causa</th>\n",
       "      <th>lc1</th>\n",
       "      <th>causa103</th>\n",
       "      <th>causa80</th>\n",
       "      <th>causa67A</th>\n",
       "      <th>causa67B</th>\n",
       "      <th>residente</th>\n",
       "    </tr>\n",
       "  </thead>\n",
       "  <tbody>\n",
       "    <tr>\n",
       "      <th>0</th>\n",
       "      <td>60264</td>\n",
       "      <td>Guayas</td>\n",
       "      <td>Guayaquil</td>\n",
       "      <td>Rocafuerte</td>\n",
       "      <td>2020</td>\n",
       "      <td>Noviembre</td>\n",
       "      <td>26</td>\n",
       "      <td>26/11/2020</td>\n",
       "      <td>Hombre</td>\n",
       "      <td>2020</td>\n",
       "      <td>...</td>\n",
       "      <td>Sin información</td>\n",
       "      <td>Guayas</td>\n",
       "      <td>Urbana</td>\n",
       "      <td>Y24   Disparo de otras armas de fuego-y las no...</td>\n",
       "      <td>65 Eventos de intención no determinada</td>\n",
       "      <td>103 Todas las demás causas externas</td>\n",
       "      <td>080 Todas las demás causas externas</td>\n",
       "      <td>060 Causas externas de morbilidad y de mortalidad</td>\n",
       "      <td>067 Todas las demás causas externas</td>\n",
       "      <td>Residente</td>\n",
       "    </tr>\n",
       "    <tr>\n",
       "      <th>1</th>\n",
       "      <td>108360</td>\n",
       "      <td>Santa Elena</td>\n",
       "      <td>Santa Elena</td>\n",
       "      <td>Santa Elena</td>\n",
       "      <td>2020</td>\n",
       "      <td>Diciembre</td>\n",
       "      <td>8</td>\n",
       "      <td>08/12/2020</td>\n",
       "      <td>Hombre</td>\n",
       "      <td>2020</td>\n",
       "      <td>...</td>\n",
       "      <td></td>\n",
       "      <td>Esmeraldas</td>\n",
       "      <td>Urbana</td>\n",
       "      <td>R99   Otras causas mal definidas y las no espe...</td>\n",
       "      <td>99 Causas mal definidas</td>\n",
       "      <td>094 Sintomas-signos y hallazgos anormales  clí...</td>\n",
       "      <td>071 Sintoms-signs y hallz anorm cli.y d.lab-no...</td>\n",
       "      <td>056 Síntomas-signos y hallazgos anormales</td>\n",
       "      <td>058 Otros síntomas-signos y hallazgos anormale...</td>\n",
       "      <td>Residente</td>\n",
       "    </tr>\n",
       "    <tr>\n",
       "      <th>2</th>\n",
       "      <td>105393</td>\n",
       "      <td>Guayas</td>\n",
       "      <td>Guayaquil</td>\n",
       "      <td>Rocafuerte</td>\n",
       "      <td>2020</td>\n",
       "      <td>Enero</td>\n",
       "      <td>27</td>\n",
       "      <td>27/01/2020</td>\n",
       "      <td>Hombre</td>\n",
       "      <td>2019</td>\n",
       "      <td>...</td>\n",
       "      <td></td>\n",
       "      <td>Guayas</td>\n",
       "      <td>Urbana</td>\n",
       "      <td>G91   Hidrocéfalo</td>\n",
       "      <td>88 Resto de causas</td>\n",
       "      <td>061 Resto de enfermedades del sistema nervioso</td>\n",
       "      <td>072 Todas las demas enfermedades</td>\n",
       "      <td>026 Enfermedades del sistema nervioso</td>\n",
       "      <td>028 Resto de enfermedades del sistema nervioso</td>\n",
       "      <td>Residente</td>\n",
       "    </tr>\n",
       "    <tr>\n",
       "      <th>3</th>\n",
       "      <td>105377</td>\n",
       "      <td>Guayas</td>\n",
       "      <td>Guayaquil</td>\n",
       "      <td>Tarqui</td>\n",
       "      <td>2020</td>\n",
       "      <td>Diciembre</td>\n",
       "      <td>20</td>\n",
       "      <td>20/12/2020</td>\n",
       "      <td>Hombre</td>\n",
       "      <td>2020</td>\n",
       "      <td>...</td>\n",
       "      <td></td>\n",
       "      <td>Guayas</td>\n",
       "      <td>Urbana</td>\n",
       "      <td>N39   Otros trastornos del sistema urinario</td>\n",
       "      <td>53 Enfermedades del sistema urinario</td>\n",
       "      <td>086 Resto de enfermedades del sistema genitour...</td>\n",
       "      <td>072 Todas las demas enfermedades</td>\n",
       "      <td>036 Enfermedades del sistema genitourinario</td>\n",
       "      <td>036 Enfermedades del sistema genitourinario</td>\n",
       "      <td>Residente</td>\n",
       "    </tr>\n",
       "    <tr>\n",
       "      <th>4</th>\n",
       "      <td>57264</td>\n",
       "      <td>Guayas</td>\n",
       "      <td>Guayaquil</td>\n",
       "      <td>Tarqui</td>\n",
       "      <td>2020</td>\n",
       "      <td>Noviembre</td>\n",
       "      <td>15</td>\n",
       "      <td>15/11/2020</td>\n",
       "      <td>Hombre</td>\n",
       "      <td>2020</td>\n",
       "      <td>...</td>\n",
       "      <td></td>\n",
       "      <td>Guayas</td>\n",
       "      <td>Urbana</td>\n",
       "      <td>COVID-19 Confirmados y sospechosos</td>\n",
       "      <td>COVID-19-virus identificado</td>\n",
       "      <td>104 COVID-19 Confirmados y sospechosos</td>\n",
       "      <td>081 Causas por COVID-19 identificado y no iden...</td>\n",
       "      <td>U071 COVID-19-Virus identificado</td>\n",
       "      <td>U071 COVID-19-Virus identificado</td>\n",
       "      <td>Residente</td>\n",
       "    </tr>\n",
       "  </tbody>\n",
       "</table>\n",
       "<p>5 rows × 44 columns</p>\n",
       "</div>"
      ],
      "text/plain": [
       "   Numeración    prov_insc    cant_insc    parr_insc anio_insc   mes_insc  \\\n",
       "0       60264       Guayas    Guayaquil   Rocafuerte      2020  Noviembre   \n",
       "1      108360  Santa Elena  Santa Elena  Santa Elena      2020  Diciembre   \n",
       "2      105393       Guayas    Guayaquil   Rocafuerte      2020      Enero   \n",
       "3      105377       Guayas    Guayaquil       Tarqui      2020  Diciembre   \n",
       "4       57264       Guayas    Guayaquil       Tarqui      2020  Noviembre   \n",
       "\n",
       "  dia_insc  fecha_insc    sexo  anio_fall  ...         lug_viol    prov_res  \\\n",
       "0       26  26/11/2020  Hombre       2020  ...  Sin información      Guayas   \n",
       "1        8  08/12/2020  Hombre       2020  ...                   Esmeraldas   \n",
       "2       27  27/01/2020  Hombre       2019  ...                       Guayas   \n",
       "3       20  20/12/2020  Hombre       2020  ...                       Guayas   \n",
       "4       15  15/11/2020  Hombre       2020  ...                       Guayas   \n",
       "\n",
       "  area_res                                              causa  \\\n",
       "0   Urbana  Y24   Disparo de otras armas de fuego-y las no...   \n",
       "1   Urbana  R99   Otras causas mal definidas y las no espe...   \n",
       "2   Urbana                                  G91   Hidrocéfalo   \n",
       "3   Urbana        N39   Otros trastornos del sistema urinario   \n",
       "4   Urbana                 COVID-19 Confirmados y sospechosos   \n",
       "\n",
       "                                      lc1  \\\n",
       "0  65 Eventos de intención no determinada   \n",
       "1                 99 Causas mal definidas   \n",
       "2                      88 Resto de causas   \n",
       "3    53 Enfermedades del sistema urinario   \n",
       "4             COVID-19-virus identificado   \n",
       "\n",
       "                                            causa103  \\\n",
       "0                103 Todas las demás causas externas   \n",
       "1  094 Sintomas-signos y hallazgos anormales  clí...   \n",
       "2     061 Resto de enfermedades del sistema nervioso   \n",
       "3  086 Resto de enfermedades del sistema genitour...   \n",
       "4             104 COVID-19 Confirmados y sospechosos   \n",
       "\n",
       "                                             causa80  \\\n",
       "0                080 Todas las demás causas externas   \n",
       "1  071 Sintoms-signs y hallz anorm cli.y d.lab-no...   \n",
       "2                   072 Todas las demas enfermedades   \n",
       "3                   072 Todas las demas enfermedades   \n",
       "4  081 Causas por COVID-19 identificado y no iden...   \n",
       "\n",
       "                                            causa67A  \\\n",
       "0  060 Causas externas de morbilidad y de mortalidad   \n",
       "1          056 Síntomas-signos y hallazgos anormales   \n",
       "2              026 Enfermedades del sistema nervioso   \n",
       "3        036 Enfermedades del sistema genitourinario   \n",
       "4                   U071 COVID-19-Virus identificado   \n",
       "\n",
       "                                            causa67B  residente  \n",
       "0                067 Todas las demás causas externas  Residente  \n",
       "1  058 Otros síntomas-signos y hallazgos anormale...  Residente  \n",
       "2     028 Resto de enfermedades del sistema nervioso  Residente  \n",
       "3        036 Enfermedades del sistema genitourinario  Residente  \n",
       "4                   U071 COVID-19-Virus identificado  Residente  \n",
       "\n",
       "[5 rows x 44 columns]"
      ]
     },
     "execution_count": 3,
     "metadata": {},
     "output_type": "execute_result"
    }
   ],
   "source": [
    "inec_df.head()"
   ]
  },
  {
   "cell_type": "markdown",
   "id": "f70e06ba-6209-447b-b128-bbcebf05ee91",
   "metadata": {
    "tags": []
   },
   "source": [
    "## Limpieza de datos"
   ]
  },
  {
   "cell_type": "code",
   "execution_count": 4,
   "id": "ab7a2ced-9e5d-40d4-95a9-dee983711ad1",
   "metadata": {},
   "outputs": [
    {
     "data": {
      "text/plain": [
       "Numeración    0.0\n",
       "prov_insc     0.0\n",
       "cant_insc     0.0\n",
       "parr_insc     0.0\n",
       "anio_insc     0.0\n",
       "mes_insc      0.0\n",
       "dia_insc      0.0\n",
       "fecha_insc    0.0\n",
       "sexo          0.0\n",
       "anio_fall     0.0\n",
       "mes_fall      0.0\n",
       "dia_fall      0.0\n",
       "fecha_fall    0.0\n",
       "anio_nac      0.0\n",
       "mes_nac       0.0\n",
       "dia_nac       0.0\n",
       "fecha_nac     0.0\n",
       "edad          0.0\n",
       "cod_edad      0.0\n",
       "prov_fall     0.0\n",
       "cant_fall     0.0\n",
       "parr_fall     0.0\n",
       "area_fall     0.0\n",
       "nac_fall      0.0\n",
       "cod_pais      0.0\n",
       "etnia         0.0\n",
       "est_civil     0.0\n",
       "niv_inst      0.0\n",
       "sabe_leer     0.0\n",
       "autopsia      0.0\n",
       "causa4        0.0\n",
       "lugar_ocur    0.0\n",
       "cer_por       0.0\n",
       "mor_viol      0.0\n",
       "lug_viol      0.0\n",
       "prov_res      0.0\n",
       "area_res      0.0\n",
       "causa         0.0\n",
       "lc1           0.0\n",
       "causa103      0.0\n",
       "causa80       0.0\n",
       "causa67A      0.0\n",
       "causa67B      0.0\n",
       "residente     0.0\n",
       "dtype: float64"
      ]
     },
     "execution_count": 4,
     "metadata": {},
     "output_type": "execute_result"
    }
   ],
   "source": [
    "inec_df.isnull().mean() #Promedio de valores faltantes"
   ]
  },
  {
   "cell_type": "code",
   "execution_count": 5,
   "id": "a624924b-5235-4e8a-b6e6-fb0d394a76b0",
   "metadata": {},
   "outputs": [
    {
     "name": "stdout",
     "output_type": "stream",
     "text": [
      "Hombre    68914\n",
      "Mujer     48116\n",
      "Name: sexo, dtype: int64\n"
     ]
    }
   ],
   "source": [
    "print(inec_df['sexo'].value_counts())"
   ]
  },
  {
   "cell_type": "code",
   "execution_count": 6,
   "id": "26f05317-bdda-483c-9b60-f918e3b4a4a9",
   "metadata": {},
   "outputs": [
    {
     "name": "stdout",
     "output_type": "stream",
     "text": [
      "Abril         21351\n",
      "Julio         11035\n",
      "Mayo          10386\n",
      "Marzo         10254\n",
      "Agosto        10225\n",
      "Junio          9164\n",
      "Diciembre      8187\n",
      "Septiembre     8148\n",
      "Octubre        7736\n",
      "Noviembre      7534\n",
      "Enero          6834\n",
      "Febrero        6176\n",
      "Name: mes_fall, dtype: int64\n"
     ]
    }
   ],
   "source": [
    "print(inec_df['mes_fall'].value_counts())"
   ]
  },
  {
   "cell_type": "code",
   "execution_count": 7,
   "id": "b7b4e6e5-8db4-4da9-9cdf-7446a8b19c56",
   "metadata": {},
   "outputs": [
    {
     "name": "stdout",
     "output_type": "stream",
     "text": [
      "81     2637\n",
      "84     2609\n",
      "75     2577\n",
      "80     2574\n",
      "86     2570\n",
      "       ... \n",
      "116       3\n",
      "114       3\n",
      "119       3\n",
      "112       2\n",
      "117       1\n",
      "Name: edad, Length: 119, dtype: int64\n"
     ]
    }
   ],
   "source": [
    "print(inec_df['edad'].value_counts())"
   ]
  },
  {
   "cell_type": "code",
   "execution_count": 8,
   "id": "722c4218-6c21-4e51-9f09-d67c0d71c2d4",
   "metadata": {},
   "outputs": [
    {
     "name": "stdout",
     "output_type": "stream",
     "text": [
      "81     2637\n",
      "84     2609\n",
      "75     2577\n",
      "80     2574\n",
      "86     2570\n",
      "       ... \n",
      "116       3\n",
      "114       3\n",
      "119       3\n",
      "112       2\n",
      "117       1\n",
      "Name: edad, Length: 118, dtype: int64\n"
     ]
    }
   ],
   "source": [
    "inec_df.drop(inec_df.index[inec_df['edad'] == 'Sin información'], inplace=True)\n",
    "print(inec_df['edad'].value_counts())"
   ]
  },
  {
   "cell_type": "code",
   "execution_count": 9,
   "id": "257b31d8-8e7c-49b2-af53-ddb4ec32ee4a",
   "metadata": {},
   "outputs": [],
   "source": [
    "# Conversión de edad a int\n",
    "inec_df['edad'] = inec_df['edad'].astype(int)"
   ]
  },
  {
   "cell_type": "code",
   "execution_count": 10,
   "id": "abe48427-1778-4aa4-b4b5-dff6966a3b72",
   "metadata": {},
   "outputs": [
    {
     "name": "stdout",
     "output_type": "stream",
     "text": [
      "Guayas                            38884\n",
      "Pichincha                         19721\n",
      "Manabí                            10729\n",
      "Los Ríos                           5355\n",
      "Azuay                              5235\n",
      "El Oro                             5126\n",
      "Tungurahua                         4176\n",
      "Chimborazo                         3461\n",
      "Santo Domingo de los Tsáchilas     3238\n",
      "Santa Elena                        3000\n",
      "Loja                               2962\n",
      "Imbabura                           2721\n",
      "Cotopaxi                           2606\n",
      "Esmeraldas                         2466\n",
      "Cañar                              1555\n",
      "Bolívar                            1111\n",
      "Carchi                              986\n",
      "Sucumbíos                           959\n",
      "Morona Santiago                     683\n",
      "Orellana                            586\n",
      "Napo                                566\n",
      "Pastaza                             445\n",
      "Zamora Chinchipe                    384\n",
      "Galapagos                            53\n",
      "Name: prov_fall, dtype: int64\n"
     ]
    }
   ],
   "source": [
    "print(inec_df['prov_fall'].value_counts())"
   ]
  },
  {
   "cell_type": "code",
   "execution_count": 11,
   "id": "4e7e6a8a-125a-4bdb-a65c-203dc8670412",
   "metadata": {},
   "outputs": [
    {
     "name": "stdout",
     "output_type": "stream",
     "text": [
      "Urbana    99841\n",
      "Rural     17167\n",
      "Name: area_fall, dtype: int64\n"
     ]
    }
   ],
   "source": [
    "print(inec_df['area_fall'].value_counts())"
   ]
  },
  {
   "cell_type": "code",
   "execution_count": 12,
   "id": "982100b9-54c7-43e5-b4ae-57000daa6398",
   "metadata": {},
   "outputs": [
    {
     "name": "stdout",
     "output_type": "stream",
     "text": [
      "Ecuatoriana        113313\n",
      "Extranjero           3201\n",
      "Sin información       494\n",
      "Name: nac_fall, dtype: int64\n"
     ]
    }
   ],
   "source": [
    "print(inec_df['nac_fall'].value_counts())"
   ]
  },
  {
   "cell_type": "code",
   "execution_count": 13,
   "id": "6e2fedb8-f5df-4227-82ec-cb9bca07f285",
   "metadata": {},
   "outputs": [
    {
     "name": "stdout",
     "output_type": "stream",
     "text": [
      "Ecuatoriana    113313\n",
      "Extranjero       3201\n",
      "Name: nac_fall, dtype: int64\n"
     ]
    }
   ],
   "source": [
    "inec_df.drop(inec_df.index[inec_df['nac_fall'] == 'Sin información'], inplace=True)\n",
    "print(inec_df['nac_fall'].value_counts())"
   ]
  },
  {
   "cell_type": "code",
   "execution_count": 14,
   "id": "d55e65e3-4570-4c6a-a536-0eeb9697b777",
   "metadata": {},
   "outputs": [
    {
     "name": "stdout",
     "output_type": "stream",
     "text": [
      "Mestizo (a)                              95384\n",
      "Sin información                           7864\n",
      "Indígena                                  4813\n",
      "Montubio (a)                              3079\n",
      "                                          1666\n",
      "Blanco (a)                                1530\n",
      "Afroecuatoriano (a) /Afrodescendiente      955\n",
      "Negro (a)                                  641\n",
      "Mulato  (a)                                462\n",
      "Otra                                       120\n",
      "Name: etnia, dtype: int64\n"
     ]
    }
   ],
   "source": [
    "print(inec_df['etnia'].value_counts())"
   ]
  },
  {
   "cell_type": "code",
   "execution_count": 15,
   "id": "d3c5a3df-f46d-441b-a8ae-49782e7e776f",
   "metadata": {},
   "outputs": [
    {
     "name": "stdout",
     "output_type": "stream",
     "text": [
      "Mestizo (a)                              95384\n",
      "Sin información                           7864\n",
      "Indígena                                  4813\n",
      "Montubio (a)                              3079\n",
      "Blanco (a)                                1530\n",
      "Afroecuatoriano (a) /Afrodescendiente      955\n",
      "Negro (a)                                  641\n",
      "Mulato  (a)                                462\n",
      "Otra                                       120\n",
      "Name: etnia, dtype: int64\n"
     ]
    }
   ],
   "source": [
    "# Eliminación de la Etnia sin descripción\n",
    "inec_df.drop(inec_df.index[inec_df['etnia'] == ' '], inplace=True)\n",
    "print(inec_df['etnia'].value_counts())"
   ]
  },
  {
   "cell_type": "code",
   "execution_count": 16,
   "id": "09a35cb6-1f4a-4925-a547-53f4f0c2e818",
   "metadata": {},
   "outputs": [
    {
     "name": "stdout",
     "output_type": "stream",
     "text": [
      "Valor más frecuente: Mestizo (a)\n",
      "Mestizo (a)                              103368\n",
      "Indígena                                   4813\n",
      "Montubio (a)                               3079\n",
      "Blanco (a)                                 1530\n",
      "Afroecuatoriano (a) /Afrodescendiente       955\n",
      "Negro (a)                                   641\n",
      "Mulato  (a)                                 462\n",
      "Name: etnia, dtype: int64\n"
     ]
    }
   ],
   "source": [
    "#Imputación de los valores de la columa etnia (Otra y Mestizo (a)) y  con el valor más frecuente\n",
    "print(\"Valor más frecuente: \" + inec_df['etnia'].value_counts().idxmax())\n",
    "inec_df['etnia'].replace(['Otra'], inec_df['etnia'].value_counts().idxmax(), inplace=True)\n",
    "inec_df['etnia'].replace(['Sin información'], inec_df['etnia'].value_counts().idxmax(), inplace=True)\n",
    "print(inec_df['etnia'].value_counts())"
   ]
  },
  {
   "cell_type": "code",
   "execution_count": 17,
   "id": "ecefdbf7-f097-458b-acfd-928aa55331d8",
   "metadata": {},
   "outputs": [
    {
     "name": "stdout",
     "output_type": "stream",
     "text": [
      "Casado/a           44537\n",
      "Soltero/a          40630\n",
      "Viudo/a            16913\n",
      "Divorciado/a        5646\n",
      "Sin información     5621\n",
      "Unión libre         1101\n",
      "Unión de hecho       316\n",
      "Separado/a            84\n",
      "Name: est_civil, dtype: int64\n"
     ]
    }
   ],
   "source": [
    "print(inec_df['est_civil'].value_counts())"
   ]
  },
  {
   "cell_type": "code",
   "execution_count": 18,
   "id": "f894419c-2e62-4e1e-9fa2-b54346b2c4eb",
   "metadata": {},
   "outputs": [
    {
     "name": "stdout",
     "output_type": "stream",
     "text": [
      "Casado/a          44537\n",
      "Soltero/a         40630\n",
      "Viudo/a           16913\n",
      "Divorciado/a       5646\n",
      "Unión libre        1101\n",
      "Unión de hecho      316\n",
      "Separado/a           84\n",
      "Name: est_civil, dtype: int64\n"
     ]
    }
   ],
   "source": [
    "# Eliminación del estado civil sin descripción\n",
    "inec_df.drop(inec_df.index[inec_df['est_civil'] == 'Sin información'], inplace=True)\n",
    "print(inec_df['est_civil'].value_counts())"
   ]
  },
  {
   "cell_type": "code",
   "execution_count": 19,
   "id": "9442ee16-0791-4ea1-8b2f-091e91c4c0bb",
   "metadata": {},
   "outputs": [
    {
     "name": "stdout",
     "output_type": "stream",
     "text": [
      "Educación Básica                  28192\n",
      "Primaria                          27076\n",
      "Ninguno                           17382\n",
      "Educación Media / Bachillerato    10832\n",
      "Secundaria                        10247\n",
      "Superior universitario             5796\n",
      "Sin información                    3662\n",
      "                                   3237\n",
      "Centro de alfabetización           1589\n",
      "Superior no universitario          1018\n",
      "Postgrado                           196\n",
      "Name: niv_inst, dtype: int64\n"
     ]
    }
   ],
   "source": [
    "print(inec_df['niv_inst'].value_counts())"
   ]
  },
  {
   "cell_type": "code",
   "execution_count": 20,
   "id": "b9176af8-25ca-4b0f-b5fc-2136e1c9a43e",
   "metadata": {},
   "outputs": [
    {
     "name": "stdout",
     "output_type": "stream",
     "text": [
      "Educación Básica                  28192\n",
      "Primaria                          27076\n",
      "Ninguno                           17382\n",
      "Educación Media / Bachillerato    10832\n",
      "Secundaria                        10247\n",
      "Superior universitario             5796\n",
      "Centro de alfabetización           1589\n",
      "Superior no universitario          1018\n",
      "Postgrado                           196\n",
      "Name: niv_inst, dtype: int64\n"
     ]
    }
   ],
   "source": [
    "# Eliminación del nivel de instrucción sin descripción y sin información\n",
    "inec_df.drop(inec_df.index[inec_df['niv_inst'] == ' '], inplace=True)\n",
    "inec_df.drop(inec_df.index[inec_df['niv_inst'] == 'Sin información'], inplace=True)\n",
    "print(inec_df['niv_inst'].value_counts())"
   ]
  },
  {
   "cell_type": "code",
   "execution_count": 21,
   "id": "d20ede7a-691b-4577-9990-f8d68475855f",
   "metadata": {},
   "outputs": [
    {
     "name": "stdout",
     "output_type": "stream",
     "text": [
      "Casa                                            53870\n",
      "Establecimientos del Ministerio de Salud        24689\n",
      "Establecimientos del IESS                       10126\n",
      "Hospital-clínica o consultorio privado           7831\n",
      "Otro                                             3745\n",
      "Otros establecimientos públicos                  1035\n",
      "Establecimientos de la Junta de Beneficencia     1032\n",
      "Name: lugar_ocur, dtype: int64\n"
     ]
    }
   ],
   "source": [
    "print(inec_df['lugar_ocur'].value_counts())"
   ]
  },
  {
   "cell_type": "code",
   "execution_count": 22,
   "id": "e07b1aa0-7f01-401e-8ad8-5b8af736bef3",
   "metadata": {},
   "outputs": [
    {
     "name": "stdout",
     "output_type": "stream",
     "text": [
      "030 Enfermedades del sistema circulatorio                                                                                26893\n",
      "U071 COVID-19-Virus identificado                                                                                         13454\n",
      "016 Tumores [neoplasias]                                                                                                 12025\n",
      "031 Enfermedades del sistema respiratorio                                                                                10114\n",
      "023 Enfermedades endocrinas-nutricionales y metabólicas                                                                   8439\n",
      "060 Causas externas de morbilidad y de mortalidad                                                                         7078\n",
      "U072 COVID-19-Virus no identificado                                                                                       6812\n",
      "056 Síntomas-signos y hallazgos anormales                                                                                 4565\n",
      "035 Enfermedades del sistema digestivo                                                                                    4354\n",
      "036 Enfermedades del sistema genitourinario                                                                               2644\n",
      "001 Ciertas enfermedades infecciosas y parasitarias                                                                       2161\n",
      "026 Enfermedades del sistema nervioso                                                                                     1909\n",
      "059 Todas las demás enfermedades                                                                                          1030\n",
      "020 Enfermedades de la sangre y de los órganos hematopoyéticos-y ciertos trastornos que afectan el mecanismo de la in      510\n",
      "No aplica                                                                                                                  192\n",
      "049 Malformaciones congénitas-deformidades y anomalías cromosómicas                                                        140\n",
      "029 Enfermedades del oído y de la apófisis mastoides                                                                         6\n",
      "037 Ciertas afecciones originadas en el período perinatal                                                                    2\n",
      "Name: causa67A, dtype: int64\n"
     ]
    }
   ],
   "source": [
    "print(inec_df['causa67A'].value_counts())"
   ]
  },
  {
   "cell_type": "code",
   "execution_count": 23,
   "id": "7cb6ebf1-b8d0-4ba2-92ed-ab23786903c3",
   "metadata": {},
   "outputs": [
    {
     "name": "stdout",
     "output_type": "stream",
     "text": [
      "030 Enfermedades del sistema circulatorio                                                                                26893\n",
      "U071 COVID-19-Virus identificado                                                                                         13454\n",
      "016 Tumores [neoplasias]                                                                                                 12025\n",
      "031 Enfermedades del sistema respiratorio                                                                                10114\n",
      "023 Enfermedades endocrinas-nutricionales y metabólicas                                                                   8439\n",
      "060 Causas externas de morbilidad y de mortalidad                                                                         7078\n",
      "U072 COVID-19-Virus no identificado                                                                                       6812\n",
      "056 Síntomas-signos y hallazgos anormales                                                                                 4565\n",
      "035 Enfermedades del sistema digestivo                                                                                    4354\n",
      "036 Enfermedades del sistema genitourinario                                                                               2644\n",
      "001 Ciertas enfermedades infecciosas y parasitarias                                                                       2161\n",
      "026 Enfermedades del sistema nervioso                                                                                     1909\n",
      "059 Todas las demás enfermedades                                                                                          1030\n",
      "020 Enfermedades de la sangre y de los órganos hematopoyéticos-y ciertos trastornos que afectan el mecanismo de la in      510\n",
      "049 Malformaciones congénitas-deformidades y anomalías cromosómicas                                                        140\n",
      "Name: causa67A, dtype: int64\n"
     ]
    }
   ],
   "source": [
    "# Eliminación del la causa de muerte sin descripción\n",
    "inec_df.drop(inec_df.index[inec_df['causa67A'] == 'No aplica'], inplace=True)\n",
    "inec_df.drop(inec_df.index[inec_df['causa67A'] == '037 Ciertas afecciones originadas en el período perinatal'], inplace=True)\n",
    "inec_df.drop(inec_df.index[inec_df['causa67A'] == '029 Enfermedades del oído y de la apófisis mastoides'], inplace=True)\n",
    "print(inec_df['causa67A'].value_counts())"
   ]
  },
  {
   "cell_type": "markdown",
   "id": "1c7e2439-7745-42b8-b72c-6c1c3d3209a1",
   "metadata": {
    "tags": []
   },
   "source": [
    "## Eliminación de columnas no relevantes"
   ]
  },
  {
   "cell_type": "code",
   "execution_count": 24,
   "id": "9d3e5396-b048-45bd-9bce-25603e3e9962",
   "metadata": {},
   "outputs": [],
   "source": [
    "inec_df = inec_df.drop(['causa4'], axis=1)"
   ]
  },
  {
   "cell_type": "code",
   "execution_count": 25,
   "id": "6e4b8392-fb56-4ffe-921b-44298ead0069",
   "metadata": {},
   "outputs": [],
   "source": [
    "inec_df = inec_df.drop(['causa'], axis=1)"
   ]
  },
  {
   "cell_type": "code",
   "execution_count": 26,
   "id": "b8da2706-2502-4b5b-affb-8c630ebb7af9",
   "metadata": {},
   "outputs": [],
   "source": [
    "inec_df = inec_df.drop(['cod_pais'], axis=1)"
   ]
  },
  {
   "cell_type": "code",
   "execution_count": 27,
   "id": "17f4e53e-ff94-48c2-b9f1-8d21c4b69990",
   "metadata": {},
   "outputs": [],
   "source": [
    "inec_df = inec_df.drop(['residente'], axis=1)"
   ]
  },
  {
   "cell_type": "code",
   "execution_count": 28,
   "id": "95d920e5-5927-46e3-a4a2-0177bf817e1f",
   "metadata": {},
   "outputs": [],
   "source": [
    "inec_df = inec_df.drop(['mes_nac'], axis=1)"
   ]
  },
  {
   "cell_type": "code",
   "execution_count": 29,
   "id": "39a3b2a5-bc43-4fa4-83c4-c0617197bb9f",
   "metadata": {},
   "outputs": [],
   "source": [
    "inec_df = inec_df.drop(['mes_insc'], axis=1)"
   ]
  },
  {
   "cell_type": "code",
   "execution_count": 30,
   "id": "0cb7d5ef-7470-4e1e-9347-96e0c1e776b4",
   "metadata": {},
   "outputs": [],
   "source": [
    "inec_df = inec_df.drop(['parr_insc'], axis=1)"
   ]
  },
  {
   "cell_type": "code",
   "execution_count": 31,
   "id": "c7c494bb-cd17-4f10-87a8-faa3a3ca0814",
   "metadata": {},
   "outputs": [],
   "source": [
    "inec_df = inec_df.drop(['fecha_insc'], axis=1)"
   ]
  },
  {
   "cell_type": "code",
   "execution_count": 32,
   "id": "a5979f70-de2a-4cde-a5ea-430b78e0295b",
   "metadata": {},
   "outputs": [],
   "source": [
    "inec_df = inec_df.drop(['dia_insc'], axis=1)"
   ]
  },
  {
   "cell_type": "code",
   "execution_count": 33,
   "id": "8eae7fe7-8cbd-46d9-bd73-168ff363b6cb",
   "metadata": {},
   "outputs": [],
   "source": [
    "inec_df = inec_df.drop(['fecha_fall'], axis=1)"
   ]
  },
  {
   "cell_type": "code",
   "execution_count": 34,
   "id": "f5db588a-5c62-414c-a0b4-8847b65c07ff",
   "metadata": {},
   "outputs": [],
   "source": [
    "inec_df = inec_df.drop(['dia_fall'], axis=1)"
   ]
  },
  {
   "cell_type": "code",
   "execution_count": 35,
   "id": "eb876d96-eafe-439c-bc68-3baa4cc65f47",
   "metadata": {},
   "outputs": [],
   "source": [
    "inec_df = inec_df.drop(['dia_nac'], axis=1)"
   ]
  },
  {
   "cell_type": "code",
   "execution_count": 36,
   "id": "e9882e44-7ac6-4e38-8edb-49ee8fc41ac0",
   "metadata": {},
   "outputs": [],
   "source": [
    "inec_df = inec_df.drop(['cod_edad'], axis=1)"
   ]
  },
  {
   "cell_type": "code",
   "execution_count": 37,
   "id": "34fd2461-7e36-4eac-be53-25780e93a97d",
   "metadata": {},
   "outputs": [],
   "source": [
    "inec_df = inec_df.drop(['fecha_nac'], axis=1)"
   ]
  },
  {
   "cell_type": "code",
   "execution_count": 38,
   "id": "4ec6ea0c-4636-4f8c-a5d4-b6a6f31257c7",
   "metadata": {},
   "outputs": [],
   "source": [
    "inec_df = inec_df.drop(['Numeración'], axis=1)"
   ]
  },
  {
   "cell_type": "code",
   "execution_count": 39,
   "id": "5197d8af-08b7-4532-bbd5-d5098710a768",
   "metadata": {},
   "outputs": [],
   "source": [
    "inec_df = inec_df.drop(['prov_insc'], axis=1)"
   ]
  },
  {
   "cell_type": "code",
   "execution_count": 40,
   "id": "c964da33-2a61-4288-a21d-1c21a300032d",
   "metadata": {},
   "outputs": [],
   "source": [
    "inec_df = inec_df.drop(['cant_insc'], axis=1)"
   ]
  },
  {
   "cell_type": "code",
   "execution_count": 41,
   "id": "ac9a7dbd-c671-4884-892d-5d911f9dda17",
   "metadata": {},
   "outputs": [],
   "source": [
    "inec_df = inec_df.drop(['anio_insc'], axis=1)"
   ]
  },
  {
   "cell_type": "code",
   "execution_count": 42,
   "id": "8711dd1c-d5af-4680-a059-bf6689388985",
   "metadata": {},
   "outputs": [],
   "source": [
    "inec_df = inec_df.drop(['cant_fall'], axis=1)"
   ]
  },
  {
   "cell_type": "code",
   "execution_count": 43,
   "id": "c1be5031-ce20-4dff-8bff-10374c1b61b3",
   "metadata": {},
   "outputs": [],
   "source": [
    "inec_df = inec_df.drop(['parr_fall'], axis=1)"
   ]
  },
  {
   "cell_type": "code",
   "execution_count": 44,
   "id": "482fddac-8e1e-47d5-952e-6317525a803c",
   "metadata": {},
   "outputs": [],
   "source": [
    "inec_df = inec_df.drop(['lc1'], axis=1)"
   ]
  },
  {
   "cell_type": "code",
   "execution_count": 45,
   "id": "43c85aca-70ad-4427-a90b-c4f55fe84178",
   "metadata": {},
   "outputs": [],
   "source": [
    "inec_df = inec_df.drop(['causa103'], axis=1)"
   ]
  },
  {
   "cell_type": "code",
   "execution_count": 46,
   "id": "30ab539b-9612-4b3e-973d-3662306a2a9d",
   "metadata": {},
   "outputs": [],
   "source": [
    "inec_df = inec_df.drop(['causa80'], axis=1)"
   ]
  },
  {
   "cell_type": "code",
   "execution_count": 47,
   "id": "bfa7e4e3-03e5-417d-b92b-d2707b4f02ec",
   "metadata": {},
   "outputs": [],
   "source": [
    "inec_df = inec_df.drop(['mor_viol'], axis=1)"
   ]
  },
  {
   "cell_type": "code",
   "execution_count": 48,
   "id": "e17274db-cc86-490e-964f-91309f5176f8",
   "metadata": {},
   "outputs": [],
   "source": [
    "inec_df = inec_df.drop(['lug_viol'], axis=1)"
   ]
  },
  {
   "cell_type": "code",
   "execution_count": 49,
   "id": "d0d26d94-8572-4bf7-b8bc-a361da235c02",
   "metadata": {},
   "outputs": [],
   "source": [
    "inec_df = inec_df.drop(['causa67B'], axis=1)"
   ]
  },
  {
   "cell_type": "code",
   "execution_count": 50,
   "id": "b7137fcf-7992-4ac6-b18b-728c133542da",
   "metadata": {},
   "outputs": [],
   "source": [
    "inec_df = inec_df.drop(['sabe_leer'], axis=1)"
   ]
  },
  {
   "cell_type": "code",
   "execution_count": 51,
   "id": "424fbeb6-2375-4552-b730-6b361028dde7",
   "metadata": {},
   "outputs": [],
   "source": [
    "inec_df = inec_df.drop(['autopsia'], axis=1)"
   ]
  },
  {
   "cell_type": "code",
   "execution_count": 52,
   "id": "e85dd93c-bd1f-41b2-9422-ca9840fa648f",
   "metadata": {},
   "outputs": [],
   "source": [
    "inec_df = inec_df.drop(['anio_nac'], axis=1)"
   ]
  },
  {
   "cell_type": "code",
   "execution_count": 53,
   "id": "d87810d9-c9d2-42df-aae0-0ec6a9c4687d",
   "metadata": {},
   "outputs": [],
   "source": [
    "inec_df = inec_df.drop(['prov_res'], axis=1)"
   ]
  },
  {
   "cell_type": "code",
   "execution_count": 54,
   "id": "f78d1c16-ed64-4068-a20f-523dd8aad25a",
   "metadata": {},
   "outputs": [],
   "source": [
    "inec_df = inec_df.drop(['lugar_ocur'], axis=1)"
   ]
  },
  {
   "cell_type": "code",
   "execution_count": 55,
   "id": "0baddb91-1510-4494-8f82-ec9a1f7b655b",
   "metadata": {},
   "outputs": [],
   "source": [
    "inec_df = inec_df.drop(['anio_fall'], axis=1)"
   ]
  },
  {
   "cell_type": "code",
   "execution_count": 56,
   "id": "ff8e4fc3-0e4e-40cb-969d-aeda74d17980",
   "metadata": {},
   "outputs": [],
   "source": [
    "inec_df = inec_df.drop(['cer_por'], axis=1)"
   ]
  },
  {
   "cell_type": "code",
   "execution_count": 57,
   "id": "2681bfcc-c4b3-4f87-a52f-8405bd7e3856",
   "metadata": {},
   "outputs": [
    {
     "data": {
      "text/html": [
       "<div>\n",
       "<style scoped>\n",
       "    .dataframe tbody tr th:only-of-type {\n",
       "        vertical-align: middle;\n",
       "    }\n",
       "\n",
       "    .dataframe tbody tr th {\n",
       "        vertical-align: top;\n",
       "    }\n",
       "\n",
       "    .dataframe thead th {\n",
       "        text-align: right;\n",
       "    }\n",
       "</style>\n",
       "<table border=\"1\" class=\"dataframe\">\n",
       "  <thead>\n",
       "    <tr style=\"text-align: right;\">\n",
       "      <th></th>\n",
       "      <th>sexo</th>\n",
       "      <th>mes_fall</th>\n",
       "      <th>edad</th>\n",
       "      <th>prov_fall</th>\n",
       "      <th>area_fall</th>\n",
       "      <th>nac_fall</th>\n",
       "      <th>etnia</th>\n",
       "      <th>est_civil</th>\n",
       "      <th>niv_inst</th>\n",
       "      <th>area_res</th>\n",
       "      <th>causa67A</th>\n",
       "    </tr>\n",
       "  </thead>\n",
       "  <tbody>\n",
       "    <tr>\n",
       "      <th>1</th>\n",
       "      <td>Hombre</td>\n",
       "      <td>Agosto</td>\n",
       "      <td>72</td>\n",
       "      <td>Esmeraldas</td>\n",
       "      <td>Urbana</td>\n",
       "      <td>Extranjero</td>\n",
       "      <td>Blanco (a)</td>\n",
       "      <td>Soltero/a</td>\n",
       "      <td>Secundaria</td>\n",
       "      <td>Urbana</td>\n",
       "      <td>056 Síntomas-signos y hallazgos anormales</td>\n",
       "    </tr>\n",
       "    <tr>\n",
       "      <th>2</th>\n",
       "      <td>Hombre</td>\n",
       "      <td>Noviembre</td>\n",
       "      <td>76</td>\n",
       "      <td>Guayas</td>\n",
       "      <td>Urbana</td>\n",
       "      <td>Extranjero</td>\n",
       "      <td>Mestizo (a)</td>\n",
       "      <td>Divorciado/a</td>\n",
       "      <td>Secundaria</td>\n",
       "      <td>Urbana</td>\n",
       "      <td>026 Enfermedades del sistema nervioso</td>\n",
       "    </tr>\n",
       "    <tr>\n",
       "      <th>3</th>\n",
       "      <td>Hombre</td>\n",
       "      <td>Diciembre</td>\n",
       "      <td>75</td>\n",
       "      <td>Guayas</td>\n",
       "      <td>Urbana</td>\n",
       "      <td>Extranjero</td>\n",
       "      <td>Mestizo (a)</td>\n",
       "      <td>Casado/a</td>\n",
       "      <td>Educación Media / Bachillerato</td>\n",
       "      <td>Urbana</td>\n",
       "      <td>036 Enfermedades del sistema genitourinario</td>\n",
       "    </tr>\n",
       "    <tr>\n",
       "      <th>4</th>\n",
       "      <td>Hombre</td>\n",
       "      <td>Noviembre</td>\n",
       "      <td>62</td>\n",
       "      <td>Guayas</td>\n",
       "      <td>Urbana</td>\n",
       "      <td>Extranjero</td>\n",
       "      <td>Mestizo (a)</td>\n",
       "      <td>Casado/a</td>\n",
       "      <td>Superior universitario</td>\n",
       "      <td>Urbana</td>\n",
       "      <td>U071 COVID-19-Virus identificado</td>\n",
       "    </tr>\n",
       "    <tr>\n",
       "      <th>7</th>\n",
       "      <td>Hombre</td>\n",
       "      <td>Mayo</td>\n",
       "      <td>86</td>\n",
       "      <td>Guayas</td>\n",
       "      <td>Urbana</td>\n",
       "      <td>Extranjero</td>\n",
       "      <td>Mestizo (a)</td>\n",
       "      <td>Casado/a</td>\n",
       "      <td>Primaria</td>\n",
       "      <td>Urbana</td>\n",
       "      <td>035 Enfermedades del sistema digestivo</td>\n",
       "    </tr>\n",
       "    <tr>\n",
       "      <th>8</th>\n",
       "      <td>Hombre</td>\n",
       "      <td>Septiembre</td>\n",
       "      <td>87</td>\n",
       "      <td>Guayas</td>\n",
       "      <td>Urbana</td>\n",
       "      <td>Extranjero</td>\n",
       "      <td>Blanco (a)</td>\n",
       "      <td>Viudo/a</td>\n",
       "      <td>Postgrado</td>\n",
       "      <td>Urbana</td>\n",
       "      <td>031 Enfermedades del sistema respiratorio</td>\n",
       "    </tr>\n",
       "    <tr>\n",
       "      <th>9</th>\n",
       "      <td>Hombre</td>\n",
       "      <td>Enero</td>\n",
       "      <td>85</td>\n",
       "      <td>Manabí</td>\n",
       "      <td>Urbana</td>\n",
       "      <td>Extranjero</td>\n",
       "      <td>Mestizo (a)</td>\n",
       "      <td>Casado/a</td>\n",
       "      <td>Primaria</td>\n",
       "      <td>Urbana</td>\n",
       "      <td>016 Tumores [neoplasias]</td>\n",
       "    </tr>\n",
       "    <tr>\n",
       "      <th>10</th>\n",
       "      <td>Hombre</td>\n",
       "      <td>Julio</td>\n",
       "      <td>95</td>\n",
       "      <td>Pichincha</td>\n",
       "      <td>Urbana</td>\n",
       "      <td>Extranjero</td>\n",
       "      <td>Mestizo (a)</td>\n",
       "      <td>Viudo/a</td>\n",
       "      <td>Superior universitario</td>\n",
       "      <td>Urbana</td>\n",
       "      <td>036 Enfermedades del sistema genitourinario</td>\n",
       "    </tr>\n",
       "    <tr>\n",
       "      <th>11</th>\n",
       "      <td>Mujer</td>\n",
       "      <td>Marzo</td>\n",
       "      <td>81</td>\n",
       "      <td>Pichincha</td>\n",
       "      <td>Urbana</td>\n",
       "      <td>Extranjero</td>\n",
       "      <td>Mestizo (a)</td>\n",
       "      <td>Viudo/a</td>\n",
       "      <td>Superior universitario</td>\n",
       "      <td>Urbana</td>\n",
       "      <td>030 Enfermedades del sistema circulatorio</td>\n",
       "    </tr>\n",
       "    <tr>\n",
       "      <th>12</th>\n",
       "      <td>Mujer</td>\n",
       "      <td>Julio</td>\n",
       "      <td>50</td>\n",
       "      <td>Pichincha</td>\n",
       "      <td>Urbana</td>\n",
       "      <td>Extranjero</td>\n",
       "      <td>Mestizo (a)</td>\n",
       "      <td>Casado/a</td>\n",
       "      <td>Superior universitario</td>\n",
       "      <td>Urbana</td>\n",
       "      <td>016 Tumores [neoplasias]</td>\n",
       "    </tr>\n",
       "    <tr>\n",
       "      <th>13</th>\n",
       "      <td>Hombre</td>\n",
       "      <td>Marzo</td>\n",
       "      <td>85</td>\n",
       "      <td>Pichincha</td>\n",
       "      <td>Rural</td>\n",
       "      <td>Extranjero</td>\n",
       "      <td>Mestizo (a)</td>\n",
       "      <td>Casado/a</td>\n",
       "      <td>Superior universitario</td>\n",
       "      <td>Rural</td>\n",
       "      <td>U071 COVID-19-Virus identificado</td>\n",
       "    </tr>\n",
       "    <tr>\n",
       "      <th>14</th>\n",
       "      <td>Hombre</td>\n",
       "      <td>Diciembre</td>\n",
       "      <td>79</td>\n",
       "      <td>Pichincha</td>\n",
       "      <td>Rural</td>\n",
       "      <td>Extranjero</td>\n",
       "      <td>Mestizo (a)</td>\n",
       "      <td>Casado/a</td>\n",
       "      <td>Educación Media / Bachillerato</td>\n",
       "      <td>Rural</td>\n",
       "      <td>U071 COVID-19-Virus identificado</td>\n",
       "    </tr>\n",
       "    <tr>\n",
       "      <th>15</th>\n",
       "      <td>Hombre</td>\n",
       "      <td>Febrero</td>\n",
       "      <td>27</td>\n",
       "      <td>Tungurahua</td>\n",
       "      <td>Urbana</td>\n",
       "      <td>Extranjero</td>\n",
       "      <td>Blanco (a)</td>\n",
       "      <td>Soltero/a</td>\n",
       "      <td>Superior universitario</td>\n",
       "      <td>Urbana</td>\n",
       "      <td>060 Causas externas de morbilidad y de mortalidad</td>\n",
       "    </tr>\n",
       "    <tr>\n",
       "      <th>16</th>\n",
       "      <td>Mujer</td>\n",
       "      <td>Marzo</td>\n",
       "      <td>50</td>\n",
       "      <td>Santa Elena</td>\n",
       "      <td>Urbana</td>\n",
       "      <td>Extranjero</td>\n",
       "      <td>Mestizo (a)</td>\n",
       "      <td>Soltero/a</td>\n",
       "      <td>Secundaria</td>\n",
       "      <td>Urbana</td>\n",
       "      <td>060 Causas externas de morbilidad y de mortalidad</td>\n",
       "    </tr>\n",
       "    <tr>\n",
       "      <th>17</th>\n",
       "      <td>Hombre</td>\n",
       "      <td>Abril</td>\n",
       "      <td>76</td>\n",
       "      <td>Santa Elena</td>\n",
       "      <td>Urbana</td>\n",
       "      <td>Extranjero</td>\n",
       "      <td>Mestizo (a)</td>\n",
       "      <td>Casado/a</td>\n",
       "      <td>Superior universitario</td>\n",
       "      <td>Urbana</td>\n",
       "      <td>035 Enfermedades del sistema digestivo</td>\n",
       "    </tr>\n",
       "    <tr>\n",
       "      <th>19</th>\n",
       "      <td>Mujer</td>\n",
       "      <td>Junio</td>\n",
       "      <td>72</td>\n",
       "      <td>Guayas</td>\n",
       "      <td>Urbana</td>\n",
       "      <td>Extranjero</td>\n",
       "      <td>Blanco (a)</td>\n",
       "      <td>Soltero/a</td>\n",
       "      <td>Superior universitario</td>\n",
       "      <td>Urbana</td>\n",
       "      <td>030 Enfermedades del sistema circulatorio</td>\n",
       "    </tr>\n",
       "    <tr>\n",
       "      <th>21</th>\n",
       "      <td>Hombre</td>\n",
       "      <td>Mayo</td>\n",
       "      <td>87</td>\n",
       "      <td>Pichincha</td>\n",
       "      <td>Urbana</td>\n",
       "      <td>Extranjero</td>\n",
       "      <td>Blanco (a)</td>\n",
       "      <td>Casado/a</td>\n",
       "      <td>Superior universitario</td>\n",
       "      <td>Urbana</td>\n",
       "      <td>030 Enfermedades del sistema circulatorio</td>\n",
       "    </tr>\n",
       "    <tr>\n",
       "      <th>22</th>\n",
       "      <td>Hombre</td>\n",
       "      <td>Agosto</td>\n",
       "      <td>74</td>\n",
       "      <td>Pichincha</td>\n",
       "      <td>Urbana</td>\n",
       "      <td>Extranjero</td>\n",
       "      <td>Mestizo (a)</td>\n",
       "      <td>Casado/a</td>\n",
       "      <td>Primaria</td>\n",
       "      <td>Rural</td>\n",
       "      <td>030 Enfermedades del sistema circulatorio</td>\n",
       "    </tr>\n",
       "    <tr>\n",
       "      <th>23</th>\n",
       "      <td>Hombre</td>\n",
       "      <td>Marzo</td>\n",
       "      <td>82</td>\n",
       "      <td>Guayas</td>\n",
       "      <td>Urbana</td>\n",
       "      <td>Extranjero</td>\n",
       "      <td>Mestizo (a)</td>\n",
       "      <td>Casado/a</td>\n",
       "      <td>Superior universitario</td>\n",
       "      <td>Urbana</td>\n",
       "      <td>023 Enfermedades endocrinas-nutricionales y me...</td>\n",
       "    </tr>\n",
       "    <tr>\n",
       "      <th>24</th>\n",
       "      <td>Mujer</td>\n",
       "      <td>Mayo</td>\n",
       "      <td>88</td>\n",
       "      <td>Pichincha</td>\n",
       "      <td>Urbana</td>\n",
       "      <td>Extranjero</td>\n",
       "      <td>Mestizo (a)</td>\n",
       "      <td>Soltero/a</td>\n",
       "      <td>Secundaria</td>\n",
       "      <td>Urbana</td>\n",
       "      <td>031 Enfermedades del sistema respiratorio</td>\n",
       "    </tr>\n",
       "  </tbody>\n",
       "</table>\n",
       "</div>"
      ],
      "text/plain": [
       "      sexo    mes_fall  edad    prov_fall area_fall    nac_fall        etnia  \\\n",
       "1   Hombre      Agosto    72   Esmeraldas    Urbana  Extranjero   Blanco (a)   \n",
       "2   Hombre   Noviembre    76       Guayas    Urbana  Extranjero  Mestizo (a)   \n",
       "3   Hombre   Diciembre    75       Guayas    Urbana  Extranjero  Mestizo (a)   \n",
       "4   Hombre   Noviembre    62       Guayas    Urbana  Extranjero  Mestizo (a)   \n",
       "7   Hombre        Mayo    86       Guayas    Urbana  Extranjero  Mestizo (a)   \n",
       "8   Hombre  Septiembre    87       Guayas    Urbana  Extranjero   Blanco (a)   \n",
       "9   Hombre       Enero    85       Manabí    Urbana  Extranjero  Mestizo (a)   \n",
       "10  Hombre       Julio    95    Pichincha    Urbana  Extranjero  Mestizo (a)   \n",
       "11   Mujer       Marzo    81    Pichincha    Urbana  Extranjero  Mestizo (a)   \n",
       "12   Mujer       Julio    50    Pichincha    Urbana  Extranjero  Mestizo (a)   \n",
       "13  Hombre       Marzo    85    Pichincha     Rural  Extranjero  Mestizo (a)   \n",
       "14  Hombre   Diciembre    79    Pichincha     Rural  Extranjero  Mestizo (a)   \n",
       "15  Hombre     Febrero    27   Tungurahua    Urbana  Extranjero   Blanco (a)   \n",
       "16   Mujer       Marzo    50  Santa Elena    Urbana  Extranjero  Mestizo (a)   \n",
       "17  Hombre       Abril    76  Santa Elena    Urbana  Extranjero  Mestizo (a)   \n",
       "19   Mujer       Junio    72       Guayas    Urbana  Extranjero   Blanco (a)   \n",
       "21  Hombre        Mayo    87    Pichincha    Urbana  Extranjero   Blanco (a)   \n",
       "22  Hombre      Agosto    74    Pichincha    Urbana  Extranjero  Mestizo (a)   \n",
       "23  Hombre       Marzo    82       Guayas    Urbana  Extranjero  Mestizo (a)   \n",
       "24   Mujer        Mayo    88    Pichincha    Urbana  Extranjero  Mestizo (a)   \n",
       "\n",
       "       est_civil                        niv_inst area_res  \\\n",
       "1      Soltero/a                      Secundaria   Urbana   \n",
       "2   Divorciado/a                      Secundaria   Urbana   \n",
       "3       Casado/a  Educación Media / Bachillerato   Urbana   \n",
       "4       Casado/a          Superior universitario   Urbana   \n",
       "7       Casado/a                        Primaria   Urbana   \n",
       "8        Viudo/a                       Postgrado   Urbana   \n",
       "9       Casado/a                        Primaria   Urbana   \n",
       "10       Viudo/a          Superior universitario   Urbana   \n",
       "11       Viudo/a          Superior universitario   Urbana   \n",
       "12      Casado/a          Superior universitario   Urbana   \n",
       "13      Casado/a          Superior universitario    Rural   \n",
       "14      Casado/a  Educación Media / Bachillerato    Rural   \n",
       "15     Soltero/a          Superior universitario   Urbana   \n",
       "16     Soltero/a                      Secundaria   Urbana   \n",
       "17      Casado/a          Superior universitario   Urbana   \n",
       "19     Soltero/a          Superior universitario   Urbana   \n",
       "21      Casado/a          Superior universitario   Urbana   \n",
       "22      Casado/a                        Primaria    Rural   \n",
       "23      Casado/a          Superior universitario   Urbana   \n",
       "24     Soltero/a                      Secundaria   Urbana   \n",
       "\n",
       "                                             causa67A  \n",
       "1           056 Síntomas-signos y hallazgos anormales  \n",
       "2               026 Enfermedades del sistema nervioso  \n",
       "3         036 Enfermedades del sistema genitourinario  \n",
       "4                    U071 COVID-19-Virus identificado  \n",
       "7              035 Enfermedades del sistema digestivo  \n",
       "8           031 Enfermedades del sistema respiratorio  \n",
       "9                            016 Tumores [neoplasias]  \n",
       "10        036 Enfermedades del sistema genitourinario  \n",
       "11          030 Enfermedades del sistema circulatorio  \n",
       "12                           016 Tumores [neoplasias]  \n",
       "13                   U071 COVID-19-Virus identificado  \n",
       "14                   U071 COVID-19-Virus identificado  \n",
       "15  060 Causas externas de morbilidad y de mortalidad  \n",
       "16  060 Causas externas de morbilidad y de mortalidad  \n",
       "17             035 Enfermedades del sistema digestivo  \n",
       "19          030 Enfermedades del sistema circulatorio  \n",
       "21          030 Enfermedades del sistema circulatorio  \n",
       "22          030 Enfermedades del sistema circulatorio  \n",
       "23  023 Enfermedades endocrinas-nutricionales y me...  \n",
       "24          031 Enfermedades del sistema respiratorio  "
      ]
     },
     "execution_count": 57,
     "metadata": {},
     "output_type": "execute_result"
    }
   ],
   "source": [
    "inec_df.head(20)"
   ]
  },
  {
   "cell_type": "markdown",
   "id": "6aeb25c1-7df6-4910-8a37-4eecfbdfeeb6",
   "metadata": {
    "tags": []
   },
   "source": [
    "## Transformación a variables dummies"
   ]
  },
  {
   "cell_type": "code",
   "execution_count": 58,
   "id": "cf5feb14-659c-4b74-bd86-1b474a34e5ac",
   "metadata": {},
   "outputs": [
    {
     "data": {
      "text/html": [
       "<div>\n",
       "<style scoped>\n",
       "    .dataframe tbody tr th:only-of-type {\n",
       "        vertical-align: middle;\n",
       "    }\n",
       "\n",
       "    .dataframe tbody tr th {\n",
       "        vertical-align: top;\n",
       "    }\n",
       "\n",
       "    .dataframe thead th {\n",
       "        text-align: right;\n",
       "    }\n",
       "</style>\n",
       "<table border=\"1\" class=\"dataframe\">\n",
       "  <thead>\n",
       "    <tr style=\"text-align: right;\">\n",
       "      <th></th>\n",
       "      <th>mes_fall</th>\n",
       "      <th>edad</th>\n",
       "      <th>prov_fall</th>\n",
       "      <th>etnia</th>\n",
       "      <th>est_civil</th>\n",
       "      <th>niv_inst</th>\n",
       "      <th>causa67A</th>\n",
       "      <th>sexo_Mujer</th>\n",
       "      <th>area_fall_Urbana</th>\n",
       "      <th>nac_fall_Extranjero</th>\n",
       "      <th>area_res_Urbana</th>\n",
       "    </tr>\n",
       "  </thead>\n",
       "  <tbody>\n",
       "    <tr>\n",
       "      <th>1</th>\n",
       "      <td>Agosto</td>\n",
       "      <td>72</td>\n",
       "      <td>Esmeraldas</td>\n",
       "      <td>Blanco (a)</td>\n",
       "      <td>Soltero/a</td>\n",
       "      <td>Secundaria</td>\n",
       "      <td>056 Síntomas-signos y hallazgos anormales</td>\n",
       "      <td>0</td>\n",
       "      <td>1</td>\n",
       "      <td>1</td>\n",
       "      <td>1</td>\n",
       "    </tr>\n",
       "    <tr>\n",
       "      <th>2</th>\n",
       "      <td>Noviembre</td>\n",
       "      <td>76</td>\n",
       "      <td>Guayas</td>\n",
       "      <td>Mestizo (a)</td>\n",
       "      <td>Divorciado/a</td>\n",
       "      <td>Secundaria</td>\n",
       "      <td>026 Enfermedades del sistema nervioso</td>\n",
       "      <td>0</td>\n",
       "      <td>1</td>\n",
       "      <td>1</td>\n",
       "      <td>1</td>\n",
       "    </tr>\n",
       "    <tr>\n",
       "      <th>3</th>\n",
       "      <td>Diciembre</td>\n",
       "      <td>75</td>\n",
       "      <td>Guayas</td>\n",
       "      <td>Mestizo (a)</td>\n",
       "      <td>Casado/a</td>\n",
       "      <td>Educación Media / Bachillerato</td>\n",
       "      <td>036 Enfermedades del sistema genitourinario</td>\n",
       "      <td>0</td>\n",
       "      <td>1</td>\n",
       "      <td>1</td>\n",
       "      <td>1</td>\n",
       "    </tr>\n",
       "    <tr>\n",
       "      <th>4</th>\n",
       "      <td>Noviembre</td>\n",
       "      <td>62</td>\n",
       "      <td>Guayas</td>\n",
       "      <td>Mestizo (a)</td>\n",
       "      <td>Casado/a</td>\n",
       "      <td>Superior universitario</td>\n",
       "      <td>U071 COVID-19-Virus identificado</td>\n",
       "      <td>0</td>\n",
       "      <td>1</td>\n",
       "      <td>1</td>\n",
       "      <td>1</td>\n",
       "    </tr>\n",
       "    <tr>\n",
       "      <th>7</th>\n",
       "      <td>Mayo</td>\n",
       "      <td>86</td>\n",
       "      <td>Guayas</td>\n",
       "      <td>Mestizo (a)</td>\n",
       "      <td>Casado/a</td>\n",
       "      <td>Primaria</td>\n",
       "      <td>035 Enfermedades del sistema digestivo</td>\n",
       "      <td>0</td>\n",
       "      <td>1</td>\n",
       "      <td>1</td>\n",
       "      <td>1</td>\n",
       "    </tr>\n",
       "  </tbody>\n",
       "</table>\n",
       "</div>"
      ],
      "text/plain": [
       "    mes_fall  edad   prov_fall        etnia     est_civil  \\\n",
       "1     Agosto    72  Esmeraldas   Blanco (a)     Soltero/a   \n",
       "2  Noviembre    76      Guayas  Mestizo (a)  Divorciado/a   \n",
       "3  Diciembre    75      Guayas  Mestizo (a)      Casado/a   \n",
       "4  Noviembre    62      Guayas  Mestizo (a)      Casado/a   \n",
       "7       Mayo    86      Guayas  Mestizo (a)      Casado/a   \n",
       "\n",
       "                         niv_inst  \\\n",
       "1                      Secundaria   \n",
       "2                      Secundaria   \n",
       "3  Educación Media / Bachillerato   \n",
       "4          Superior universitario   \n",
       "7                        Primaria   \n",
       "\n",
       "                                      causa67A  sexo_Mujer  area_fall_Urbana  \\\n",
       "1    056 Síntomas-signos y hallazgos anormales           0                 1   \n",
       "2        026 Enfermedades del sistema nervioso           0                 1   \n",
       "3  036 Enfermedades del sistema genitourinario           0                 1   \n",
       "4             U071 COVID-19-Virus identificado           0                 1   \n",
       "7       035 Enfermedades del sistema digestivo           0                 1   \n",
       "\n",
       "   nac_fall_Extranjero  area_res_Urbana  \n",
       "1                    1                1  \n",
       "2                    1                1  \n",
       "3                    1                1  \n",
       "4                    1                1  \n",
       "7                    1                1  "
      ]
     },
     "execution_count": 58,
     "metadata": {},
     "output_type": "execute_result"
    }
   ],
   "source": [
    "inec_df = pd.get_dummies(inec_df, columns=['sexo', 'area_fall', 'nac_fall','area_res'], drop_first=True)\n",
    "inec_df.head() "
   ]
  },
  {
   "cell_type": "markdown",
   "id": "1fecb3b7-32b3-4ae1-a2ae-93429ba1ca53",
   "metadata": {
    "tags": []
   },
   "source": [
    "## Label encoding"
   ]
  },
  {
   "cell_type": "code",
   "execution_count": 59,
   "id": "c5cde8fa-d6a2-4ed5-b654-ed9b26cbb087",
   "metadata": {},
   "outputs": [],
   "source": [
    "# label_encoder object knows how to understand word labels.\n",
    "label_encoder = preprocessing.LabelEncoder()"
   ]
  },
  {
   "cell_type": "code",
   "execution_count": 60,
   "id": "c14393a9-abea-4599-95de-4bbeb3d26d44",
   "metadata": {},
   "outputs": [
    {
     "data": {
      "text/plain": [
       "array([ 1,  9,  2,  8, 11,  3,  5,  7,  4,  0,  6, 10])"
      ]
     },
     "execution_count": 60,
     "metadata": {},
     "output_type": "execute_result"
    }
   ],
   "source": [
    "# Encode labels in column 'mes_fall'.\n",
    "inec_df['mes_fall']= label_encoder.fit_transform(inec_df['mes_fall'])\n",
    "inec_df['mes_fall'].unique()"
   ]
  },
  {
   "cell_type": "code",
   "execution_count": 61,
   "id": "b9583f3e-a902-4158-86bc-b08d996f81cc",
   "metadata": {},
   "outputs": [
    {
     "data": {
      "text/plain": [
       "array(['Abril', 'Agosto', 'Diciembre', 'Enero', 'Febrero', 'Julio',\n",
       "       'Junio', 'Marzo', 'Mayo', 'Noviembre', 'Octubre', 'Septiembre'],\n",
       "      dtype=object)"
      ]
     },
     "execution_count": 61,
     "metadata": {},
     "output_type": "execute_result"
    }
   ],
   "source": [
    "label_encoder.classes_"
   ]
  },
  {
   "cell_type": "code",
   "execution_count": 62,
   "id": "4cf7d09d-9ec5-405c-a481-39d7da72da93",
   "metadata": {},
   "outputs": [
    {
     "data": {
      "text/plain": [
       "array([ 7,  9, 13, 18, 22, 19,  6,  0,  1,  3,  2, 11,  5, 10,  4, 12, 14,\n",
       "       15, 17, 21, 16, 20, 23,  8])"
      ]
     },
     "execution_count": 62,
     "metadata": {},
     "output_type": "execute_result"
    }
   ],
   "source": [
    "# Encode labels in column 'prov_fall'.\n",
    "inec_df['prov_fall']= label_encoder.fit_transform(inec_df['prov_fall'])\n",
    "inec_df['prov_fall'].unique()"
   ]
  },
  {
   "cell_type": "code",
   "execution_count": 63,
   "id": "cd2760a9-9255-48d3-a68d-44e6f0f35fdc",
   "metadata": {},
   "outputs": [
    {
     "data": {
      "text/plain": [
       "array(['Azuay', 'Bolívar', 'Carchi', 'Cañar', 'Chimborazo', 'Cotopaxi',\n",
       "       'El Oro', 'Esmeraldas', 'Galapagos', 'Guayas', 'Imbabura', 'Loja',\n",
       "       'Los Ríos', 'Manabí', 'Morona Santiago', 'Napo', 'Orellana',\n",
       "       'Pastaza', 'Pichincha', 'Santa Elena',\n",
       "       'Santo Domingo de los Tsáchilas', 'Sucumbíos', 'Tungurahua',\n",
       "       'Zamora Chinchipe'], dtype=object)"
      ]
     },
     "execution_count": 63,
     "metadata": {},
     "output_type": "execute_result"
    }
   ],
   "source": [
    "label_encoder.classes_"
   ]
  },
  {
   "cell_type": "code",
   "execution_count": 64,
   "id": "9b9454ec-e346-4f7f-80ff-30e1f613c94b",
   "metadata": {},
   "outputs": [
    {
     "data": {
      "text/plain": [
       "array([6, 2, 8, 5, 4, 1, 7, 3, 0])"
      ]
     },
     "execution_count": 64,
     "metadata": {},
     "output_type": "execute_result"
    }
   ],
   "source": [
    "# Encode labels in column 'niv_inst'.\n",
    "inec_df['niv_inst']= label_encoder.fit_transform(inec_df['niv_inst'])\n",
    "inec_df['niv_inst'].unique()"
   ]
  },
  {
   "cell_type": "code",
   "execution_count": 65,
   "id": "cd410b46-6361-4709-b57c-d92d69484808",
   "metadata": {},
   "outputs": [
    {
     "data": {
      "text/plain": [
       "array(['Centro de alfabetización', 'Educación Básica',\n",
       "       'Educación Media / Bachillerato', 'Ninguno', 'Postgrado',\n",
       "       'Primaria', 'Secundaria', 'Superior no universitario',\n",
       "       'Superior universitario'], dtype=object)"
      ]
     },
     "execution_count": 65,
     "metadata": {},
     "output_type": "execute_result"
    }
   ],
   "source": [
    "label_encoder.classes_"
   ]
  },
  {
   "cell_type": "code",
   "execution_count": 66,
   "id": "18a780ae-49a6-4866-ba6a-b666440e332b",
   "metadata": {},
   "outputs": [
    {
     "data": {
      "text/plain": [
       "array([3, 1, 0, 6, 5, 4, 2])"
      ]
     },
     "execution_count": 66,
     "metadata": {},
     "output_type": "execute_result"
    }
   ],
   "source": [
    "# Encode labels in column 'est_civil'.\n",
    "inec_df['est_civil']= label_encoder.fit_transform(inec_df['est_civil'])\n",
    "inec_df['est_civil'].unique()"
   ]
  },
  {
   "cell_type": "code",
   "execution_count": 67,
   "id": "d3bed29f-6cbc-4ad3-8b4a-79588f0e081a",
   "metadata": {},
   "outputs": [
    {
     "data": {
      "text/plain": [
       "array(['Casado/a', 'Divorciado/a', 'Separado/a', 'Soltero/a',\n",
       "       'Unión de hecho', 'Unión libre', 'Viudo/a'], dtype=object)"
      ]
     },
     "execution_count": 67,
     "metadata": {},
     "output_type": "execute_result"
    }
   ],
   "source": [
    "label_encoder.classes_"
   ]
  },
  {
   "cell_type": "code",
   "execution_count": 68,
   "id": "a1302a22-c79a-4067-95d8-985932f8beb6",
   "metadata": {},
   "outputs": [
    {
     "data": {
      "text/plain": [
       "array([10,  4,  8, 13,  7,  6,  1,  5, 12,  3, 14, 11,  0,  2,  9])"
      ]
     },
     "execution_count": 68,
     "metadata": {},
     "output_type": "execute_result"
    }
   ],
   "source": [
    "# Encode labels in column 'causa67A'.\n",
    "inec_df['causa67A']= label_encoder.fit_transform(inec_df['causa67A'])\n",
    "inec_df['causa67A'].unique()"
   ]
  },
  {
   "cell_type": "code",
   "execution_count": 69,
   "id": "dfe8d23f-90ee-4fda-9a8e-43586e095e86",
   "metadata": {},
   "outputs": [
    {
     "data": {
      "text/plain": [
       "array(['001 Ciertas enfermedades infecciosas y parasitarias',\n",
       "       '016 Tumores [neoplasias]',\n",
       "       '020 Enfermedades de la sangre y de los órganos hematopoyéticos-y ciertos trastornos que afectan el mecanismo de la in',\n",
       "       '023 Enfermedades endocrinas-nutricionales y metabólicas',\n",
       "       '026 Enfermedades del sistema nervioso',\n",
       "       '030 Enfermedades del sistema circulatorio',\n",
       "       '031 Enfermedades del sistema respiratorio',\n",
       "       '035 Enfermedades del sistema digestivo',\n",
       "       '036 Enfermedades del sistema genitourinario',\n",
       "       '049 Malformaciones congénitas-deformidades y anomalías cromosómicas',\n",
       "       '056 Síntomas-signos y hallazgos anormales',\n",
       "       '059 Todas las demás enfermedades',\n",
       "       '060 Causas externas de morbilidad y de mortalidad',\n",
       "       'U071 COVID-19-Virus identificado',\n",
       "       'U072 COVID-19-Virus no identificado'], dtype=object)"
      ]
     },
     "execution_count": 69,
     "metadata": {},
     "output_type": "execute_result"
    }
   ],
   "source": [
    "label_encoder.classes_"
   ]
  },
  {
   "cell_type": "code",
   "execution_count": 70,
   "id": "f94fe905-13f2-4a8e-91ed-4decf7a832ac",
   "metadata": {},
   "outputs": [
    {
     "data": {
      "text/plain": [
       "array([1, 3, 0, 5, 2, 6, 4])"
      ]
     },
     "execution_count": 70,
     "metadata": {},
     "output_type": "execute_result"
    }
   ],
   "source": [
    "# Encode labels in column 'etnia'.\n",
    "inec_df['etnia']= label_encoder.fit_transform(inec_df['etnia'])\n",
    "inec_df['etnia'].unique()"
   ]
  },
  {
   "cell_type": "code",
   "execution_count": 71,
   "id": "916f8712-551c-4510-bde0-bcf17cf76932",
   "metadata": {},
   "outputs": [
    {
     "data": {
      "text/plain": [
       "array(['Afroecuatoriano (a) /Afrodescendiente', 'Blanco (a)', 'Indígena',\n",
       "       'Mestizo (a)', 'Montubio (a)', 'Mulato  (a)', 'Negro (a)'],\n",
       "      dtype=object)"
      ]
     },
     "execution_count": 71,
     "metadata": {},
     "output_type": "execute_result"
    }
   ],
   "source": [
    "# Decodificación Etnia\n",
    "label_encoder.classes_"
   ]
  },
  {
   "cell_type": "markdown",
   "id": "3485a370-e0f0-446a-a2c2-eeb69ac4175f",
   "metadata": {},
   "source": [
    "    Afroecuatoriano (a) /Afrodescendiente --> 0\n",
    "    Blanco (a)--> 1\n",
    "    Indígena--> 2\n",
    "    Mestizo (a) --> 3\n",
    "    Montubio (a) --> 4\n",
    "    Mulato  (a) --> 5 \n",
    "    Negro (a) --> 6"
   ]
  },
  {
   "cell_type": "markdown",
   "id": "b2271bc1-91c3-419b-93f4-ad9389f1b2e5",
   "metadata": {
    "tags": []
   },
   "source": [
    "## Entrenamiento del modelo y K-fold Cross Validation"
   ]
  },
  {
   "cell_type": "code",
   "execution_count": 72,
   "id": "3e794a97-715e-4367-8578-e9be5f98d90b",
   "metadata": {},
   "outputs": [],
   "source": [
    "X = inec_df[[\"mes_fall\",\"edad\",\"prov_fall\",\"causa67A\",\"est_civil\",\"niv_inst\",\"sexo_Mujer\",\"area_fall_Urbana\",\"nac_fall_Extranjero\"]]\n",
    "y = inec_df[[\"etnia\"]]"
   ]
  },
  {
   "cell_type": "code",
   "execution_count": 73,
   "id": "81117790-5c9f-4400-9524-802428725261",
   "metadata": {},
   "outputs": [
    {
     "data": {
      "text/html": [
       "<div>\n",
       "<style scoped>\n",
       "    .dataframe tbody tr th:only-of-type {\n",
       "        vertical-align: middle;\n",
       "    }\n",
       "\n",
       "    .dataframe tbody tr th {\n",
       "        vertical-align: top;\n",
       "    }\n",
       "\n",
       "    .dataframe thead th {\n",
       "        text-align: right;\n",
       "    }\n",
       "</style>\n",
       "<table border=\"1\" class=\"dataframe\">\n",
       "  <thead>\n",
       "    <tr style=\"text-align: right;\">\n",
       "      <th></th>\n",
       "      <th>mes_fall</th>\n",
       "      <th>edad</th>\n",
       "      <th>prov_fall</th>\n",
       "      <th>causa67A</th>\n",
       "      <th>est_civil</th>\n",
       "      <th>niv_inst</th>\n",
       "      <th>sexo_Mujer</th>\n",
       "      <th>area_fall_Urbana</th>\n",
       "      <th>nac_fall_Extranjero</th>\n",
       "    </tr>\n",
       "  </thead>\n",
       "  <tbody>\n",
       "    <tr>\n",
       "      <th>1</th>\n",
       "      <td>1</td>\n",
       "      <td>72</td>\n",
       "      <td>7</td>\n",
       "      <td>10</td>\n",
       "      <td>3</td>\n",
       "      <td>6</td>\n",
       "      <td>0</td>\n",
       "      <td>1</td>\n",
       "      <td>1</td>\n",
       "    </tr>\n",
       "    <tr>\n",
       "      <th>2</th>\n",
       "      <td>9</td>\n",
       "      <td>76</td>\n",
       "      <td>9</td>\n",
       "      <td>4</td>\n",
       "      <td>1</td>\n",
       "      <td>6</td>\n",
       "      <td>0</td>\n",
       "      <td>1</td>\n",
       "      <td>1</td>\n",
       "    </tr>\n",
       "    <tr>\n",
       "      <th>3</th>\n",
       "      <td>2</td>\n",
       "      <td>75</td>\n",
       "      <td>9</td>\n",
       "      <td>8</td>\n",
       "      <td>0</td>\n",
       "      <td>2</td>\n",
       "      <td>0</td>\n",
       "      <td>1</td>\n",
       "      <td>1</td>\n",
       "    </tr>\n",
       "    <tr>\n",
       "      <th>4</th>\n",
       "      <td>9</td>\n",
       "      <td>62</td>\n",
       "      <td>9</td>\n",
       "      <td>13</td>\n",
       "      <td>0</td>\n",
       "      <td>8</td>\n",
       "      <td>0</td>\n",
       "      <td>1</td>\n",
       "      <td>1</td>\n",
       "    </tr>\n",
       "    <tr>\n",
       "      <th>7</th>\n",
       "      <td>8</td>\n",
       "      <td>86</td>\n",
       "      <td>9</td>\n",
       "      <td>7</td>\n",
       "      <td>0</td>\n",
       "      <td>5</td>\n",
       "      <td>0</td>\n",
       "      <td>1</td>\n",
       "      <td>1</td>\n",
       "    </tr>\n",
       "    <tr>\n",
       "      <th>...</th>\n",
       "      <td>...</td>\n",
       "      <td>...</td>\n",
       "      <td>...</td>\n",
       "      <td>...</td>\n",
       "      <td>...</td>\n",
       "      <td>...</td>\n",
       "      <td>...</td>\n",
       "      <td>...</td>\n",
       "      <td>...</td>\n",
       "    </tr>\n",
       "    <tr>\n",
       "      <th>116512</th>\n",
       "      <td>10</td>\n",
       "      <td>23</td>\n",
       "      <td>21</td>\n",
       "      <td>12</td>\n",
       "      <td>3</td>\n",
       "      <td>1</td>\n",
       "      <td>0</td>\n",
       "      <td>1</td>\n",
       "      <td>1</td>\n",
       "    </tr>\n",
       "    <tr>\n",
       "      <th>116513</th>\n",
       "      <td>1</td>\n",
       "      <td>85</td>\n",
       "      <td>20</td>\n",
       "      <td>1</td>\n",
       "      <td>6</td>\n",
       "      <td>3</td>\n",
       "      <td>1</td>\n",
       "      <td>1</td>\n",
       "      <td>1</td>\n",
       "    </tr>\n",
       "    <tr>\n",
       "      <th>116514</th>\n",
       "      <td>9</td>\n",
       "      <td>33</td>\n",
       "      <td>20</td>\n",
       "      <td>5</td>\n",
       "      <td>3</td>\n",
       "      <td>2</td>\n",
       "      <td>1</td>\n",
       "      <td>1</td>\n",
       "      <td>1</td>\n",
       "    </tr>\n",
       "    <tr>\n",
       "      <th>116515</th>\n",
       "      <td>6</td>\n",
       "      <td>76</td>\n",
       "      <td>19</td>\n",
       "      <td>5</td>\n",
       "      <td>0</td>\n",
       "      <td>5</td>\n",
       "      <td>0</td>\n",
       "      <td>1</td>\n",
       "      <td>1</td>\n",
       "    </tr>\n",
       "    <tr>\n",
       "      <th>116518</th>\n",
       "      <td>1</td>\n",
       "      <td>53</td>\n",
       "      <td>19</td>\n",
       "      <td>1</td>\n",
       "      <td>0</td>\n",
       "      <td>6</td>\n",
       "      <td>1</td>\n",
       "      <td>1</td>\n",
       "      <td>1</td>\n",
       "    </tr>\n",
       "  </tbody>\n",
       "</table>\n",
       "<p>102128 rows × 9 columns</p>\n",
       "</div>"
      ],
      "text/plain": [
       "        mes_fall  edad  prov_fall  causa67A  est_civil  niv_inst  sexo_Mujer  \\\n",
       "1              1    72          7        10          3         6           0   \n",
       "2              9    76          9         4          1         6           0   \n",
       "3              2    75          9         8          0         2           0   \n",
       "4              9    62          9        13          0         8           0   \n",
       "7              8    86          9         7          0         5           0   \n",
       "...          ...   ...        ...       ...        ...       ...         ...   \n",
       "116512        10    23         21        12          3         1           0   \n",
       "116513         1    85         20         1          6         3           1   \n",
       "116514         9    33         20         5          3         2           1   \n",
       "116515         6    76         19         5          0         5           0   \n",
       "116518         1    53         19         1          0         6           1   \n",
       "\n",
       "        area_fall_Urbana  nac_fall_Extranjero  \n",
       "1                      1                    1  \n",
       "2                      1                    1  \n",
       "3                      1                    1  \n",
       "4                      1                    1  \n",
       "7                      1                    1  \n",
       "...                  ...                  ...  \n",
       "116512                 1                    1  \n",
       "116513                 1                    1  \n",
       "116514                 1                    1  \n",
       "116515                 1                    1  \n",
       "116518                 1                    1  \n",
       "\n",
       "[102128 rows x 9 columns]"
      ]
     },
     "execution_count": 73,
     "metadata": {},
     "output_type": "execute_result"
    }
   ],
   "source": [
    "X"
   ]
  },
  {
   "cell_type": "code",
   "execution_count": 74,
   "id": "120232df-89ae-4adf-9716-34b9a7eb1c7e",
   "metadata": {},
   "outputs": [
    {
     "data": {
      "text/plain": [
       "array([[<AxesSubplot:title={'center':'mes_fall'}>,\n",
       "        <AxesSubplot:title={'center':'edad'}>,\n",
       "        <AxesSubplot:title={'center':'prov_fall'}>],\n",
       "       [<AxesSubplot:title={'center':'causa67A'}>,\n",
       "        <AxesSubplot:title={'center':'est_civil'}>,\n",
       "        <AxesSubplot:title={'center':'niv_inst'}>],\n",
       "       [<AxesSubplot:title={'center':'sexo_Mujer'}>,\n",
       "        <AxesSubplot:title={'center':'area_fall_Urbana'}>,\n",
       "        <AxesSubplot:title={'center':'nac_fall_Extranjero'}>]],\n",
       "      dtype=object)"
      ]
     },
     "execution_count": 74,
     "metadata": {},
     "output_type": "execute_result"
    },
    {
     "data": {
      "image/png": "[encoded data removed]",
      "text/plain": [
       "<Figure size 432x288 with 9 Axes>"
      ]
     },
     "metadata": {
      "needs_background": "light"
     },
     "output_type": "display_data"
    }
   ],
   "source": [
    "X.hist()"
   ]
  },
  {
   "cell_type": "code",
   "execution_count": 75,
   "id": "993928bd-1b31-4a76-b05f-f456fa6dc18c",
   "metadata": {},
   "outputs": [
    {
     "data": {
      "text/html": [
       "<div>\n",
       "<style scoped>\n",
       "    .dataframe tbody tr th:only-of-type {\n",
       "        vertical-align: middle;\n",
       "    }\n",
       "\n",
       "    .dataframe tbody tr th {\n",
       "        vertical-align: top;\n",
       "    }\n",
       "\n",
       "    .dataframe thead th {\n",
       "        text-align: right;\n",
       "    }\n",
       "</style>\n",
       "<table border=\"1\" class=\"dataframe\">\n",
       "  <thead>\n",
       "    <tr style=\"text-align: right;\">\n",
       "      <th></th>\n",
       "      <th>etnia</th>\n",
       "    </tr>\n",
       "  </thead>\n",
       "  <tbody>\n",
       "    <tr>\n",
       "      <th>1</th>\n",
       "      <td>1</td>\n",
       "    </tr>\n",
       "    <tr>\n",
       "      <th>2</th>\n",
       "      <td>3</td>\n",
       "    </tr>\n",
       "    <tr>\n",
       "      <th>3</th>\n",
       "      <td>3</td>\n",
       "    </tr>\n",
       "    <tr>\n",
       "      <th>4</th>\n",
       "      <td>3</td>\n",
       "    </tr>\n",
       "    <tr>\n",
       "      <th>7</th>\n",
       "      <td>3</td>\n",
       "    </tr>\n",
       "    <tr>\n",
       "      <th>...</th>\n",
       "      <td>...</td>\n",
       "    </tr>\n",
       "    <tr>\n",
       "      <th>116512</th>\n",
       "      <td>3</td>\n",
       "    </tr>\n",
       "    <tr>\n",
       "      <th>116513</th>\n",
       "      <td>3</td>\n",
       "    </tr>\n",
       "    <tr>\n",
       "      <th>116514</th>\n",
       "      <td>3</td>\n",
       "    </tr>\n",
       "    <tr>\n",
       "      <th>116515</th>\n",
       "      <td>1</td>\n",
       "    </tr>\n",
       "    <tr>\n",
       "      <th>116518</th>\n",
       "      <td>3</td>\n",
       "    </tr>\n",
       "  </tbody>\n",
       "</table>\n",
       "<p>102128 rows × 1 columns</p>\n",
       "</div>"
      ],
      "text/plain": [
       "        etnia\n",
       "1           1\n",
       "2           3\n",
       "3           3\n",
       "4           3\n",
       "7           3\n",
       "...       ...\n",
       "116512      3\n",
       "116513      3\n",
       "116514      3\n",
       "116515      1\n",
       "116518      3\n",
       "\n",
       "[102128 rows x 1 columns]"
      ]
     },
     "execution_count": 75,
     "metadata": {},
     "output_type": "execute_result"
    }
   ],
   "source": [
    "y"
   ]
  },
  {
   "cell_type": "code",
   "execution_count": 76,
   "id": "299f3049-515c-43af-a546-02ecfe9b3d20",
   "metadata": {},
   "outputs": [
    {
     "data": {
      "text/plain": [
       "array([[<AxesSubplot:title={'center':'etnia'}>]], dtype=object)"
      ]
     },
     "execution_count": 76,
     "metadata": {},
     "output_type": "execute_result"
    },
    {
     "data": {
      "image/png": "[encoded data removed]",
      "text/plain": [
       "<Figure size 432x288 with 1 Axes>"
      ]
     },
     "metadata": {
      "needs_background": "light"
     },
     "output_type": "display_data"
    }
   ],
   "source": [
    "y.hist()"
   ]
  },
  {
   "cell_type": "code",
   "execution_count": 77,
   "id": "43b626e4-27fc-4bbd-a79c-8258e2ad768d",
   "metadata": {},
   "outputs": [
    {
     "name": "stdout",
     "output_type": "stream",
     "text": [
      "Accuracy scores of each fold:  ['0.827', '0.830', '0.828', '0.832', '0.827']\n",
      "Accuracy: 0.829 (+/- 0.004)\n",
      "Accuracy: 0.829 (+/- 0.002)\n"
     ]
    }
   ],
   "source": [
    "# Five-fold cross-validation of the decision tree classifier\n",
    "train_X, valid_X, train_y, valid_y = train_test_split(X, y, test_size=0.20, random_state=1)\n",
    "\n",
    "#treeClassifier = DecisionTreeClassifier(random_state=0) #no se especifica ninguna profundidad\n",
    "treeClassifier = DecisionTreeClassifier()\n",
    "treeClassifier.fit(X, y)\n",
    "\n",
    "scores = cross_val_score(treeClassifier, train_X, train_y, cv=5)\n",
    "print('Accuracy scores of each fold: ', [f'{acc:.3f}' for acc in scores])\n",
    "print(f'Accuracy: {scores.mean():.3f} (+/- {scores.std() * 2:.3f})')\n",
    "print(f'Accuracy: {scores.mean():.3f} (+/- {scores.std():.3f})')"
   ]
  },
  {
   "cell_type": "markdown",
   "id": "0dc095a5-635f-4343-9b85-ebe0c1739ab9",
   "metadata": {
    "tags": []
   },
   "source": [
    "## Exportación del modelo"
   ]
  },
  {
   "cell_type": "code",
   "execution_count": 78,
   "id": "9923a3c8-19e6-4204-8190-fe2b13e95816",
   "metadata": {},
   "outputs": [],
   "source": [
    "# Model persistence\n",
    "output_model_file = 'model.pkl'"
   ]
  },
  {
   "cell_type": "code",
   "execution_count": 79,
   "id": "cfc60099-03e3-4836-87b6-edb88870e225",
   "metadata": {},
   "outputs": [],
   "source": [
    "# Save the model\n",
    "with open(output_model_file, 'wb') as f:\n",
    "    pickle.dump(treeClassifier, f)"
   ]
  },
  {
   "cell_type": "markdown",
   "id": "799a9616-b236-4b9b-aaa3-0185987db20c",
   "metadata": {
    "tags": []
   },
   "source": [
    "## Evaluación del modelo guardado"
   ]
  },
  {
   "cell_type": "code",
   "execution_count": 80,
   "id": "1bc93f7f-afeb-4cbd-a7df-9d456e81b339",
   "metadata": {},
   "outputs": [],
   "source": [
    "# Load the model\n",
    "with open(output_model_file, 'rb') as f:\n",
    "    treeClassifier_model = pickle.load(f)"
   ]
  },
  {
   "cell_type": "code",
   "execution_count": 81,
   "id": "a76c71fc-b2aa-4c90-99c9-5a0952def407",
   "metadata": {},
   "outputs": [
    {
     "name": "stdout",
     "output_type": "stream",
     "text": [
      "\n",
      "Mean absolute error = 0.02\n"
     ]
    }
   ],
   "source": [
    "# Perform prediction on test data\n",
    "y_test_pred_new = treeClassifier_model.predict(valid_X)\n",
    "print(\"\\nMean absolute error =\", round(sm.mean_absolute_error(valid_y, y_test_pred_new), 2))"
   ]
  },
  {
   "cell_type": "markdown",
   "id": "a4f48a29-7af5-4ca2-9557-5042e21b11b5",
   "metadata": {
    "tags": []
   },
   "source": [
    "## Predicciones"
   ]
  },
  {
   "cell_type": "code",
   "execution_count": 82,
   "id": "2ac29961-21f0-4624-beac-9398fbdc1350",
   "metadata": {},
   "outputs": [],
   "source": [
    "# create a tkinter root window\n",
    "vent = tk.Tk()\n",
    "vent.title(\"Proyecto IA\")\n",
    "vent.geometry(\"640x550\")\n",
    "\n",
    "comboMes = ttk.Combobox(state=\"readonly\",\n",
    "                        values=['Abril', 'Agosto', 'Diciembre', 'Enero', 'Febrero', 'Julio','Junio', 'Marzo', 'Mayo', 'Noviembre', \n",
    "                                'Octubre', 'Septiembre'])\n",
    "lblMes = Label(vent, text = \"Mes de fallecimiento: \")\n",
    "lblMes.grid(row=0, column=1, padx=6, pady=6, sticky=W, ipady=6)\n",
    "comboMes.grid(row=0, column=2, padx=6, pady=6)\n",
    "\n",
    "lblEdad = Label(vent, text=\"Edad: \")\n",
    "lblEdad.grid(row=1, column=1, padx=6, pady=6, sticky=W, ipady=6)\n",
    "txtEdad = Entry(vent)\n",
    "txtEdad.grid(row=1, column=2, padx=6, pady=6)\n",
    "\n",
    "comboProvincia = ttk.Combobox(state=\"readonly\",\n",
    "                              values=['Azuay', 'Bolívar', 'Carchi', 'Cañar', 'Chimborazo', 'Cotopaxi', 'El Oro', 'Esmeraldas', 'Galapagos', 'Guayas', \n",
    "                  'Imbabura', 'Loja', 'Los Ríos', 'Manabí', 'Morona Santiago', 'Napo', 'Orellana', 'Pastaza', 'Pichincha', 'Santa Elena',\n",
    "                  'Santo Domingo de los Tsáchilas', 'Sucumbíos', 'Tungurahua','Zamora Chinchipe'])\n",
    "lblProvincia = Label(vent, text=\"Provincia fallecimiento: \")\n",
    "lblProvincia.grid(row=2, column=1, padx=6, pady=6, sticky=\"w\", ipady=6)\n",
    "comboProvincia.grid(row=2, column=2, padx=6, pady=6)\n",
    "\n",
    "comboCausa = ttk.Combobox(state=\"readonly\",\n",
    "                        values=['001 Ciertas enfermedades infecciosas y parasitarias',\n",
    "       '016 Tumores [neoplasias]',\n",
    "       '020 Enfermedades de la sangre y de los órganos hematopoyéticos-y ciertos trastornos que afectan el mecanismo de la in',\n",
    "       '023 Enfermedades endocrinas-nutricionales y metabólicas',\n",
    "       '026 Enfermedades del sistema nervioso',\n",
    "       '030 Enfermedades del sistema circulatorio',\n",
    "       '031 Enfermedades del sistema respiratorio',\n",
    "       '035 Enfermedades del sistema digestivo',\n",
    "       '036 Enfermedades del sistema genitourinario',\n",
    "       '049 Malformaciones congénitas-deformidades y anomalías cromosómicas',\n",
    "       '056 Síntomas-signos y hallazgos anormales',\n",
    "       '059 Todas las demás enfermedades',\n",
    "       '060 Causas externas de morbilidad y de mortalidad',\n",
    "       'U071 COVID-19-Virus identificado',\n",
    "       'U072 COVID-19-Virus no identificado'], width=75)\n",
    "lblCausa = Label(vent, text=\"Causa: \")\n",
    "lblCausa.grid(row=3, column=1, padx=6, pady=6, sticky=\"w\", ipady=6)\n",
    "comboCausa.grid(row=3, column=2, padx=6, pady=6)\n",
    "\n",
    "comboEstCivil = ttk.Combobox(state=\"readonly\",\n",
    "                             values=['Casado/a', 'Divorciado/a', 'Separado/a', 'Soltero/a','Unión de hecho', 'Unión libre', 'Viudo/a'])\n",
    "lblEstCivil = Label(vent, text=\"Estado civil: \")\n",
    "lblEstCivil.grid(row=4, column=1, padx=6, pady=6, sticky=W, ipady=6)\n",
    "comboEstCivil.grid(row=4, column=2, padx=6, pady=6)\n",
    "\n",
    "comboNvlInstruc = ttk.Combobox(state=\"readonly\",\n",
    "                             values=['Centro de alfabetización', 'Educación Básica','Educación Media / Bachillerato', \n",
    "                                     'Ninguno', 'Postgrado','Primaria', 'Secundaria', 'Superior no universitario',\n",
    "                                     'Superior universitario'], width = 25)\n",
    "lblNvlInstruc = Label(vent, text=\"Nivel de instrucción: \")\n",
    "lblNvlInstruc.grid(row=5, column=1, padx=6, pady=6, sticky=W, ipady=6)\n",
    "comboNvlInstruc.grid(row=5, column=2, padx=6, pady=6)\n",
    "\n",
    "comboSexo = ttk.Combobox(state=\"readonly\",\n",
    "                         values=['Masculino', 'Femenino'])\n",
    "lblSexo = Label(vent, text=\"Sexo: \")\n",
    "lblSexo.grid(row=6, column=1, padx=6, pady=6, sticky=W, ipady=6)\n",
    "comboSexo.grid(row=6, column=2, padx=6, pady=6)\n",
    "\n",
    "comboAreaFallecimiento = ttk.Combobox(state=\"readonly\",\n",
    "                         values=['Urbana','Rural'])\n",
    "lblSexo = Label(vent, text=\"Area Fallecimiento: \")\n",
    "lblSexo.grid(row=7, column=1, padx=6, pady=6, sticky=W, ipady=6)\n",
    "comboAreaFallecimiento.grid(row=7, column=2, padx=6, pady=6)\n",
    "\n",
    "comboNacionalidad = ttk.Combobox(state=\"readonly\",\n",
    "                         values=['Extranjero', 'Ecuatoriana'])\n",
    "lblNacionalidad = Label(vent, text=\"Nacionalidad: \")\n",
    "lblNacionalidad.grid(row=8, column=1, padx=6, pady=6, sticky=W, ipady=6)\n",
    "comboNacionalidad.grid(row=8, column=2, padx=6, pady=6)\n",
    "\n",
    "def Predecir():\n",
    "    meses=['Abril', 'Agosto', 'Diciembre', 'Enero', 'Febrero', 'Julio',\n",
    "       'Junio', 'Marzo', 'Mayo', 'Noviembre', 'Octubre', 'Septiembre']\n",
    "    provincias = ['Azuay', 'Bolívar', 'Carchi', 'Cañar', 'Chimborazo', 'Cotopaxi', 'El Oro', 'Esmeraldas', 'Galapagos', 'Guayas', \n",
    "                  'Imbabura', 'Loja', 'Los Ríos', 'Manabí', 'Morona Santiago', 'Napo', 'Orellana', 'Pastaza', 'Pichincha', 'Santa Elena',\n",
    "                  'Santo Domingo de los Tsáchilas', 'Sucumbíos', 'Tungurahua','Zamora Chinchipe']  \n",
    "    causas = ['001 Ciertas enfermedades infecciosas y parasitarias',\n",
    "       '016 Tumores [neoplasias]',\n",
    "       '020 Enfermedades de la sangre y de los órganos hematopoyéticos-y ciertos trastornos que afectan el mecanismo de la in',\n",
    "       '023 Enfermedades endocrinas-nutricionales y metabólicas',\n",
    "       '026 Enfermedades del sistema nervioso',\n",
    "       '030 Enfermedades del sistema circulatorio',\n",
    "       '031 Enfermedades del sistema respiratorio',\n",
    "       '035 Enfermedades del sistema digestivo',\n",
    "       '036 Enfermedades del sistema genitourinario',\n",
    "       '049 Malformaciones congénitas-deformidades y anomalías cromosómicas',\n",
    "       '056 Síntomas-signos y hallazgos anormales',\n",
    "       '059 Todas las demás enfermedades',\n",
    "       '060 Causas externas de morbilidad y de mortalidad',\n",
    "       'U071 COVID-19-Virus identificado',\n",
    "       'U072 COVID-19-Virus no identificado']\n",
    "    civiles=['Casado/a', 'Divorciado/a', 'Separado/a', 'Soltero/a','Unión de hecho', 'Unión libre', 'Viudo/a']\n",
    " \n",
    "    niveles=['Centro de alfabetización', 'Educación Básica','Educación Media / Bachillerato', 'Ninguno', 'Postgrado','Primaria', \n",
    "             'Secundaria', 'Superior no universitario','Superior universitario']\n",
    "    i=0\n",
    "    find=False\n",
    "    mes = comboMes.get()\n",
    "    for dato in meses:\n",
    "        if dato==mes:\n",
    "            mes=i\n",
    "            find=True\n",
    "            break\n",
    "        i += 1\n",
    "    \n",
    "    i=0\n",
    "    find=False\n",
    "    provincia = comboProvincia.get()\n",
    "    for dato in provincias:\n",
    "        if dato==provincia:\n",
    "            provincia=i\n",
    "            find=True\n",
    "            break\n",
    "        i += 1 \n",
    " \n",
    "    i=0\n",
    "    find=False\n",
    "    causa = comboCausa.get()\n",
    "    for dato in causas:\n",
    "        if dato==causa:\n",
    "            causa=i\n",
    "            find=True\n",
    "            break\n",
    "        i += 1 \n",
    "\n",
    "    i=0\n",
    "    find=False\n",
    "    civil=comboEstCivil.get()\n",
    "    for dato in civiles:\n",
    "        if dato==civil:\n",
    "            civil=i\n",
    "            find=True\n",
    "            break\n",
    "        i += 1  \n",
    "\n",
    "    i=0\n",
    "    find=False\n",
    "    nivel = comboNvlInstruc.get()\n",
    "    for dato in niveles:\n",
    "        if dato==nivel:\n",
    "            nivel=i\n",
    "            find=True\n",
    "            break\n",
    "        i += 1\n",
    "\n",
    "    sexo = comboSexo.get()\n",
    "    if(sexo==\"Masculino\"):\n",
    "        sexo=0\n",
    "    else:\n",
    "        sexo=1 \n",
    "\n",
    "    area = comboAreaFallecimiento.get()\n",
    "    if(area==\"Urbana\"):\n",
    "        area=1\n",
    "    else:\n",
    "        area=0\n",
    "\n",
    "    nacionalidad = comboNacionalidad.get()\n",
    "    if(nacionalidad == \"Extranjero\"):\n",
    "        nacionalidad = 1\n",
    "    else:\n",
    "        nacionalidad = 0\n",
    "\n",
    "    inputs = np.expand_dims([mes,int(txtEdad.get()), provincia, causa,civil,nivel,sexo,area,nacionalidad], 0)\n",
    "    prediction = treeClassifier_model.predict(inputs)\n",
    "    predictionValue = np.squeeze(prediction, -1)\n",
    "\n",
    "    if predictionValue == 0:\n",
    "        tk.messagebox.showinfo(\"Predicción: \",  \"Es probable que la persona fallecida pertenezca a la Etnia: Afroecuatoriano (a) /Afrodescendiente\")\n",
    "    elif predictionValue == 1:\n",
    "        tk.messagebox.showinfo(\"Predicción: \",  \"Es probable que la persona fallecida pertenezca a la Etnia: Blanco (a)\")\n",
    "    elif predictionValue == 2:\n",
    "        tk.messagebox.showinfo(\"Predicción: \",  \"Es probable que la persona fallecida pertenezca a la Etnia: Indígena\")\n",
    "    elif predictionValue == 3:\n",
    "        tk.messagebox.showinfo(\"Predicción: \",  \"Es probable que la persona fallecida pertenezca a la Etnia: Mestizo (a)\")\n",
    "    elif predictionValue == 4:\n",
    "        tk.messagebox.showinfo(\"Predicción: \",  \"Es probable que la persona fallecida pertenezca a la Etnia: Montubio (a)\")\n",
    "    elif predictionValue == 5:\n",
    "        tk.messagebox.showinfo(\"Predicción: \",  \"Es probable que la persona fallecida pertenezca a la Etnia: Mulato  (a)\")\n",
    "    elif predictionValue == 6:\n",
    "        tk.messagebox.showinfo(\"Predicción: \",  \"Es probable que la persona fallecida pertenezca a la Etnia: Negro (a)\")\n",
    "    else:\n",
    "        tkinter.messagebox.showinfo(\"Error \",  \"Revisar valores ingresados al modelo y volver a intentar\")\n",
    "\n",
    "# Create a Button\n",
    "btn1 = Button(vent, text=\"Predecir\", command=Predecir, height=5, width=10)\n",
    "btn1.grid(row=9, column=1, padx=6, pady=6, ipady=4, ipadx=10)\n",
    "\n",
    "vent.mainloop() "
   ]
  }
 ],
 "metadata": {
  "kernelspec": {
   "display_name": "Python 3 (ipykernel)",
   "language": "python",
   "name": "python3"
  },
  "language_info": {
   "codemirror_mode": {
    "name": "ipython",
    "version": 3
   },
   "file_extension": ".py",
   "mimetype": "text/x-python",
   "name": "python",
   "nbconvert_exporter": "python",
   "pygments_lexer": "ipython3",
   "version": "3.9.12"
  }
 },
 "nbformat": 4,
 "nbformat_minor": 5
}
